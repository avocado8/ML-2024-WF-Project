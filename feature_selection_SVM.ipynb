{
  "cells": [
    {
      "cell_type": "markdown",
      "metadata": {
        "id": "UdcHXGk3AbYO"
      },
      "source": [
        "# **Closed-world: Select Model**\n",
        "Preprocess the monitored data, extract features, and identify the model with the highest accuracy. Three candidate models were considered.\n",
        "In this notebook, the task is performed using the **'SVM'**, and the results are presented."
      ]
    },
    {
      "cell_type": "markdown",
      "metadata": {
        "id": "LEG4RjOSA1Ea"
      },
      "source": [
        "## 1. Data Preprocessing"
      ]
    },
    {
      "cell_type": "code",
      "execution_count": null,
      "metadata": {
        "colab": {
          "base_uri": "https://localhost:8080/"
        },
        "id": "R0aktyllBWG0",
        "outputId": "aaa5246a-1009-4c3c-b602-e6859ccf657a"
      },
      "outputs": [
        {
          "name": "stdout",
          "output_type": "stream",
          "text": [
            "Loading datafile...\n",
            "Total samples: 19000\n"
          ]
        }
      ],
      "source": [
        "# Convert specific features of the monitored dataset 'mon_standart.pkl' into arrays.\n",
        "\n",
        "import pickle\n",
        "\n",
        "USE_SUBLABEL = False\n",
        "URL_PER_SITE = 10\n",
        "TOTAL_URLS   = 950\n",
        "\n",
        "# Load the pickle file\n",
        "print(\"Loading datafile...\")\n",
        "with open(\"/mon_standard.pkl\", 'rb') as fi: # Path to mon_standard.pkl in Colab\n",
        "    data = pickle.load(fi)\n",
        "\n",
        "X1 = [] # Array to store instances (timestamps) - 19,000 instances, e.g., [[0.0, 0.5, 3.4, ...], [0.0, 4.5, ...], [0.0, 1.5, ...], ... [... ,45.8]]\n",
        "X2 = [] # Array to store instances (direction*size) - size information\n",
        "y = [] # Array to store the site of each instance - 19,000 instances, e.g., [0, 0, 0, 0, 0, 0, ..., 94, 94, 94, 94, 94]\n",
        "\n",
        "# Differentiate instances and sites, and store them in the respective x and y arrays\n",
        "# x array (direction*timestamp), y array (site label)\n",
        "for i in range(TOTAL_URLS):\n",
        "    if USE_SUBLABEL:\n",
        "        label = i\n",
        "    else:\n",
        "        label = i // URL_PER_SITE # Calculate which site's URL the current URL being processed belongs to and set that value as the label. Thus, URLs fetched from the same site are labeled identically.\n",
        "    for sample in data[i]:\n",
        "        size_seq = []\n",
        "        time_seq = []\n",
        "        for c in sample:\n",
        "            dr = 1 if c > 0 else -1\n",
        "            time_seq.append(abs(c))\n",
        "            size_seq.append(dr * 512)\n",
        "        X1.append(time_seq)\n",
        "        X2.append(size_seq)\n",
        "        y.append(label)\n",
        "size = len(y)\n",
        "\n",
        "print(f'Total samples: {size}') # Output: 19000\n"
      ]
    },
    {
      "cell_type": "markdown",
      "metadata": {
        "id": "b99egp8tHF4J"
      },
      "source": [
        "## 2. Feature Extraction"
      ]
    },
    {
      "cell_type": "code",
      "execution_count": null,
      "metadata": {
        "id": "3V3BNToiCKjo"
      },
      "outputs": [],
      "source": [
        "# Feature extraction\n",
        "\n",
        "import pandas as pd\n",
        "import numpy as np\n",
        "\n",
        "# A function to calculate the number of incoming/outgoing packets for the first 30 packets in each row\n",
        "def count_in_out_first_30(X2):\n",
        "    n_in_first = [] # Number of incoming packets for the first 30 packets\n",
        "    n_out_first = [] # # Number of outgoing packets for the first 30 packets\n",
        "\n",
        "    for packets in X2:\n",
        "        # Calculate n_in_first and n_out_first for the first 30 packets\n",
        "        n_in_f = sum(1 for packet in packets[:30] if packet > 0)\n",
        "        n_out_f = sum(1 for packet in packets[:30] if packet < 0)\n",
        "\n",
        "        # Append each result to the respective lists\n",
        "        n_in_first.append(n_in_f)\n",
        "        n_out_first.append(n_out_f)\n",
        "\n",
        "    return n_in_first, n_out_first\n",
        "\n",
        "# A function to calculate basic features\n",
        "def compute_features(X2, X1):\n",
        "    n_pkt = []  # Total number of packets\n",
        "    n_in = []  # Number of incoming packets\n",
        "    n_out = []  # Number of outgoing packets\n",
        "    r_in = []  # Number of incoming packets as a fraction of the total number\n",
        "    r_out = []  # Number of outgoing packets as a fraction of the total number\n",
        "    n_pkt_persec = []  # Packets per second\n",
        "\n",
        "    for i in range(0, len(X2)):\n",
        "        cnt_in = 0\n",
        "        for j in range(0, len(X2[i])):\n",
        "            if X2[i][j] < 0:\n",
        "                cnt_in += 1\n",
        "        n_pkt.append(len(X2[i]))\n",
        "        n_in.append(cnt_in)\n",
        "        n_out.append(len(X2[i]) - cnt_in)\n",
        "        r_in.append(cnt_in / len(X2[i]) if len(X2[i]) > 0 else 0)\n",
        "        r_out.append(1 - (cnt_in / len(X2[i])) if len(X2[i]) > 0 else 0)\n",
        "        t = X1[i][-1] - X1[i][0] if len(X1[i]) > 1 else 1\n",
        "        n_pkt_persec.append(n_pkt[i] / t if t > 0 else 0)\n",
        "\n",
        "    n_in_first, n_out_first = count_in_out_first_30(X2)\n",
        "\n",
        "    # Create a dataframe\n",
        "    df_mon = pd.DataFrame({\n",
        "        'n_pkt': n_pkt,\n",
        "        'n_in': n_in,\n",
        "        'n_out': n_out,\n",
        "        'r_in': r_in,\n",
        "        'r_out': r_out,\n",
        "        'n_in_first': n_in_first,\n",
        "        'n_out_first': n_out_first,\n",
        "        'n_pkt_persec': n_pkt_persec\n",
        "    })\n",
        "\n",
        "    return df_mon\n",
        "\n",
        "# A function to calculate the standard deviation of outgoing packets\n",
        "def outgoing_packet_std(X2):\n",
        "    std_list = []\n",
        "\n",
        "    for packets in X2:\n",
        "        outgoing_indices = [i for i, packet in enumerate(packets) if packet < 0]\n",
        "\n",
        "        if len(outgoing_indices) == 0:\n",
        "            std_list.append(0)\n",
        "        else:\n",
        "            std_list.append(np.std(outgoing_indices))\n",
        "\n",
        "    return std_list\n",
        "\n",
        "# A function to calculate the number of packets in the last 5 seconds\n",
        "def count_packets_last_5_seconds(X1):\n",
        "    n_last_5s = []\n",
        "    for timestamps in X1:\n",
        "        if not timestamps:\n",
        "            n_last_5s.append(0)\n",
        "        else:\n",
        "            end_time = timestamps[-1]\n",
        "            start_time = end_time - 5\n",
        "            n_last_5s.append(sum(1 for t in timestamps if t > start_time))\n",
        "    return n_last_5s\n",
        "\n",
        "# A function to calculate newly added features\n",
        "def add_new_features(df_mon, X2, X1):\n",
        "    sum_alt_concentration = [sum(abs(packet) for packet in packets) for packets in X2]\n",
        "    df_mon['sum_alt_concentration'] = sum_alt_concentration # Sum of absolute packet size\n",
        "\n",
        "    alt_pkt_persec = [\n",
        "        sum(abs(packet) for packet in packets) / (X1[i][-1] - X1[i][0]) if len(packets) > 1 and X1[i][-1] > X1[i][0] else 0 for i, packets in enumerate(X2)\n",
        "    ]\n",
        "    df_mon['alt_pkt_persec'] = alt_pkt_persec # Average absolute packet size per second\n",
        "\n",
        "    df_mon['std_ordering'] = [pd.Series(packets).std() for packets in X2] # Standard Deviation of Packet Sizes\n",
        "\n",
        "    outgoing_std = outgoing_packet_std(X2)\n",
        "    df_mon['std_dev of outgoing'] = outgoing_std # Standard Derivation of Outgoing Packets\n",
        "\n",
        "    cumulative_pkt_size = [sum(map(abs, packets)) for packets in X2]\n",
        "    df_mon['cumulative_pkt_size'] = cumulative_pkt_size # Cumulative packet Size\n",
        "\n",
        "    avg_burst_interval = []\n",
        "    for i in range(len(X1)):\n",
        "        burst_intervals = [X1[i][j+1] - X1[i][j] for j in range(len(X1[i])-1) if abs(X2[i][j]) > 0]\n",
        "        avg_burst_interval.append(sum(burst_intervals) / len(burst_intervals) if burst_intervals else 0)\n",
        "    df_mon['avg_burst_interval'] = avg_burst_interval # Average of Burst Interval\n",
        "\n",
        "    std_time_interval = [np.std([X1[i][k+1] - X1[i][k] for k in range(len(X1[i])-1)]) if len(X1[i]) > 1 else 0 for i in range(len(X1))]\n",
        "    df_mon['std_time_interval'] = std_time_interval # Standard Deviation of Time Intervals\n",
        "\n",
        "    sum_alternate_pkt_per_sec = []\n",
        "    for packets in X2:\n",
        "        count = 0\n",
        "        for i in range(1, len(packets)):\n",
        "            if (packets[i] > 0 and packets[i-1] < 0) or (packets[i] < 0 and packets[i-1] > 0):\n",
        "                count += 1\n",
        "        sum_alternate_pkt_per_sec.append(count)\n",
        "\n",
        "    df_mon['sum_alternate_pkt_per_sec'] = sum_alternate_pkt_per_sec # Number of packets changing direction per second in each sample\n",
        "\n",
        "    df_mon['#of_packets_in_last_5_seconds'] = count_packets_last_5_seconds(X1) # Number of packets during the last 5 seconds\n",
        "\n",
        "    return df_mon"
      ]
    },
    {
      "cell_type": "code",
      "execution_count": null,
      "metadata": {
        "id": "R8u1iaFMGmex"
      },
      "outputs": [],
      "source": [
        "# Basic Features Calculation\n",
        "df_mon = compute_features(X2, X1)\n",
        "# Additional Features Calculation\n",
        "df_mon = add_new_features(df_mon, X2, X1)\n",
        "\n",
        "# Additional Feature: Calculating Pearson Correlation Coefficient Between Packet Size and Timestamp\n",
        "df_mon['size_time_corr'] = [\n",
        "    pd.Series(packets).corr(pd.Series(times)) if len(packets) > 1 else np.nan\n",
        "    for packets, times in zip(X2, X1)\n",
        "]\n",
        "## Analyzing the correlation between packet size and timestamp in network data can help identify patterns.\n",
        "## For example, if larger packet sizes frequently occur at specific times, there may be a positive correlation.\n",
        "\n",
        "# Add Label\n",
        "df_mon['label'] = y"
      ]
    },
    {
      "cell_type": "code",
      "execution_count": null,
      "metadata": {
        "colab": {
          "base_uri": "https://localhost:8080/"
        },
        "id": "at8nG-9JHPIX",
        "outputId": "a5bf3ce6-be93-48a3-9d51-e3a5aca989bb"
      },
      "outputs": [
        {
          "data": {
            "application/vnd.google.colaboratory.intrinsic+json": {
              "summary": "{\n  \"name\": \"df_mon\",\n  \"rows\": 19000,\n  \"fields\": [\n    {\n      \"column\": \"n_pkt\",\n      \"properties\": {\n        \"dtype\": \"number\",\n        \"std\": 3206,\n        \"min\": 50,\n        \"max\": 9993,\n        \"num_unique_values\": 7114,\n        \"samples\": [\n          7453,\n          1248,\n          89\n        ],\n        \"semantic_type\": \"\",\n        \"description\": \"\"\n      }\n    },\n    {\n      \"column\": \"n_in\",\n      \"properties\": {\n        \"dtype\": \"number\",\n        \"std\": 2991,\n        \"min\": 25,\n        \"max\": 9698,\n        \"num_unique_values\": 7242,\n        \"samples\": [\n          240,\n          5859,\n          465\n        ],\n        \"semantic_type\": \"\",\n        \"description\": \"\"\n      }\n    },\n    {\n      \"column\": \"n_out\",\n      \"properties\": {\n        \"dtype\": \"number\",\n        \"std\": 289,\n        \"min\": 6,\n        \"max\": 4241,\n        \"num_unique_values\": 1380,\n        \"samples\": [\n          139,\n          435,\n          1237\n        ],\n        \"semantic_type\": \"\",\n        \"description\": \"\"\n      }\n    },\n    {\n      \"column\": \"r_in\",\n      \"properties\": {\n        \"dtype\": \"number\",\n        \"std\": 0.04669072251507781,\n        \"min\": 0.4927536231884058,\n        \"max\": 0.9704793355348744,\n        \"num_unique_values\": 17376,\n        \"samples\": [\n          0.9531297248261263,\n          0.9144282425172678,\n          0.8786015460295151\n        ],\n        \"semantic_type\": \"\",\n        \"description\": \"\"\n      }\n    },\n    {\n      \"column\": \"r_out\",\n      \"properties\": {\n        \"dtype\": \"number\",\n        \"std\": 0.0466907225150778,\n        \"min\": 0.02952066446512558,\n        \"max\": 0.5072463768115942,\n        \"num_unique_values\": 17376,\n        \"samples\": [\n          0.046870275173873654,\n          0.08557175748273216,\n          0.12139845397048488\n        ],\n        \"semantic_type\": \"\",\n        \"description\": \"\"\n      }\n    },\n    {\n      \"column\": \"n_in_first\",\n      \"properties\": {\n        \"dtype\": \"number\",\n        \"std\": 1,\n        \"min\": 4,\n        \"max\": 17,\n        \"num_unique_values\": 13,\n        \"samples\": [\n          4,\n          15,\n          9\n        ],\n        \"semantic_type\": \"\",\n        \"description\": \"\"\n      }\n    },\n    {\n      \"column\": \"n_out_first\",\n      \"properties\": {\n        \"dtype\": \"number\",\n        \"std\": 1,\n        \"min\": 13,\n        \"max\": 26,\n        \"num_unique_values\": 13,\n        \"samples\": [\n          26,\n          15,\n          21\n        ],\n        \"semantic_type\": \"\",\n        \"description\": \"\"\n      }\n    },\n    {\n      \"column\": \"n_pkt_persec\",\n      \"properties\": {\n        \"dtype\": \"number\",\n        \"std\": 274.47006409215,\n        \"min\": 0.7805724197745012,\n        \"max\": 2127.1367521367524,\n        \"num_unique_values\": 18933,\n        \"samples\": [\n          105.1231527093596,\n          48.68292682926829,\n          82.27932960893855\n        ],\n        \"semantic_type\": \"\",\n        \"description\": \"\"\n      }\n    },\n    {\n      \"column\": \"sum_alt_concentration\",\n      \"properties\": {\n        \"dtype\": \"number\",\n        \"std\": 1641535,\n        \"min\": 25600,\n        \"max\": 5116416,\n        \"num_unique_values\": 7114,\n        \"samples\": [\n          3815936,\n          638976,\n          45568\n        ],\n        \"semantic_type\": \"\",\n        \"description\": \"\"\n      }\n    },\n    {\n      \"column\": \"alt_pkt_persec\",\n      \"properties\": {\n        \"dtype\": \"number\",\n        \"std\": 140528.6728151808,\n        \"min\": 399.6530789245446,\n        \"max\": 1089094.0170940172,\n        \"num_unique_values\": 18933,\n        \"samples\": [\n          53823.054187192116,\n          24925.658536585364,\n          42127.01675977654\n        ],\n        \"semantic_type\": \"\",\n        \"description\": \"\"\n      }\n    },\n    {\n      \"column\": \"std_ordering\",\n      \"properties\": {\n        \"dtype\": \"number\",\n        \"std\": 56.8589695049378,\n        \"min\": 173.33166073730598,\n        \"max\": 517.1981028107319,\n        \"num_unique_values\": 18649,\n        \"samples\": [\n          301.04337206007335,\n          257.1656548547638,\n          321.34165961230826\n        ],\n        \"semantic_type\": \"\",\n        \"description\": \"\"\n      }\n    },\n    {\n      \"column\": \"std_dev of outgoing\",\n      \"properties\": {\n        \"dtype\": \"number\",\n        \"std\": 920.5288411100162,\n        \"min\": 12.223326970273774,\n        \"max\": 2986.3268707332136,\n        \"num_unique_values\": 18936,\n        \"samples\": [\n          536.6621917686964,\n          1554.1581924519687,\n          181.43561838984513\n        ],\n        \"semantic_type\": \"\",\n        \"description\": \"\"\n      }\n    },\n    {\n      \"column\": \"cumulative_pkt_size\",\n      \"properties\": {\n        \"dtype\": \"number\",\n        \"std\": 1641535,\n        \"min\": 25600,\n        \"max\": 5116416,\n        \"num_unique_values\": 7114,\n        \"samples\": [\n          3815936,\n          638976,\n          45568\n        ],\n        \"semantic_type\": \"\",\n        \"description\": \"\"\n      }\n    },\n    {\n      \"column\": \"avg_burst_interval\",\n      \"properties\": {\n        \"dtype\": \"number\",\n        \"std\": 0.06346713648385903,\n        \"min\": 0.0004701627486437613,\n        \"max\": 1.3052830188679247,\n        \"num_unique_values\": 18927,\n        \"samples\": [\n          0.03251551043429216,\n          0.007622288387920033,\n          0.0184287812041116\n        ],\n        \"semantic_type\": \"\",\n        \"description\": \"\"\n      }\n    },\n    {\n      \"column\": \"std_time_interval\",\n      \"properties\": {\n        \"dtype\": \"number\",\n        \"std\": 0.48689837326406443,\n        \"min\": 0.005326393525301339,\n        \"max\": 7.641921963863224,\n        \"num_unique_values\": 19000,\n        \"samples\": [\n          0.02824426504241138,\n          0.16934256611685444,\n          0.6139384316226109\n        ],\n        \"semantic_type\": \"\",\n        \"description\": \"\"\n      }\n    },\n    {\n      \"column\": \"sum_alternate_pkt_per_sec\",\n      \"properties\": {\n        \"dtype\": \"number\",\n        \"std\": 257,\n        \"min\": 8,\n        \"max\": 1317,\n        \"num_unique_values\": 1087,\n        \"samples\": [\n          423,\n          219,\n          764\n        ],\n        \"semantic_type\": \"\",\n        \"description\": \"\"\n      }\n    },\n    {\n      \"column\": \"#of_packets_in_last_5_seconds\",\n      \"properties\": {\n        \"dtype\": \"number\",\n        \"std\": 2336,\n        \"min\": 1,\n        \"max\": 9987,\n        \"num_unique_values\": 4104,\n        \"samples\": [\n          1540,\n          1356,\n          9320\n        ],\n        \"semantic_type\": \"\",\n        \"description\": \"\"\n      }\n    },\n    {\n      \"column\": \"size_time_corr\",\n      \"properties\": {\n        \"dtype\": \"number\",\n        \"std\": 0.1191455286157914,\n        \"min\": -0.4408754427729367,\n        \"max\": 0.735805359022216,\n        \"num_unique_values\": 19000,\n        \"samples\": [\n          -0.006884337174264393,\n          0.07558689079416336,\n          -0.15646484453111337\n        ],\n        \"semantic_type\": \"\",\n        \"description\": \"\"\n      }\n    },\n    {\n      \"column\": \"label\",\n      \"properties\": {\n        \"dtype\": \"number\",\n        \"std\": 27,\n        \"min\": 0,\n        \"max\": 94,\n        \"num_unique_values\": 95,\n        \"samples\": [\n          68,\n          22,\n          72\n        ],\n        \"semantic_type\": \"\",\n        \"description\": \"\"\n      }\n    }\n  ]\n}",
              "type": "dataframe",
              "variable_name": "df_mon"
            },
            "text/html": [
              "\n",
              "  <div id=\"df-87f3a9cc-b959-4db6-9741-28d319105c6c\" class=\"colab-df-container\">\n",
              "    <div>\n",
              "<style scoped>\n",
              "    .dataframe tbody tr th:only-of-type {\n",
              "        vertical-align: middle;\n",
              "    }\n",
              "\n",
              "    .dataframe tbody tr th {\n",
              "        vertical-align: top;\n",
              "    }\n",
              "\n",
              "    .dataframe thead th {\n",
              "        text-align: right;\n",
              "    }\n",
              "</style>\n",
              "<table border=\"1\" class=\"dataframe\">\n",
              "  <thead>\n",
              "    <tr style=\"text-align: right;\">\n",
              "      <th></th>\n",
              "      <th>n_pkt</th>\n",
              "      <th>n_in</th>\n",
              "      <th>n_out</th>\n",
              "      <th>r_in</th>\n",
              "      <th>r_out</th>\n",
              "      <th>n_in_first</th>\n",
              "      <th>n_out_first</th>\n",
              "      <th>n_pkt_persec</th>\n",
              "      <th>sum_alt_concentration</th>\n",
              "      <th>alt_pkt_persec</th>\n",
              "      <th>std_ordering</th>\n",
              "      <th>std_dev of outgoing</th>\n",
              "      <th>cumulative_pkt_size</th>\n",
              "      <th>avg_burst_interval</th>\n",
              "      <th>std_time_interval</th>\n",
              "      <th>sum_alternate_pkt_per_sec</th>\n",
              "      <th>#of_packets_in_last_5_seconds</th>\n",
              "      <th>size_time_corr</th>\n",
              "      <th>label</th>\n",
              "    </tr>\n",
              "  </thead>\n",
              "  <tbody>\n",
              "    <tr>\n",
              "      <th>0</th>\n",
              "      <td>1421</td>\n",
              "      <td>1300</td>\n",
              "      <td>121</td>\n",
              "      <td>0.914849</td>\n",
              "      <td>0.085151</td>\n",
              "      <td>9</td>\n",
              "      <td>21</td>\n",
              "      <td>140.138067</td>\n",
              "      <td>727552</td>\n",
              "      <td>71750.690335</td>\n",
              "      <td>285.905893</td>\n",
              "      <td>398.486335</td>\n",
              "      <td>727552</td>\n",
              "      <td>0.007141</td>\n",
              "      <td>0.041168</td>\n",
              "      <td>155</td>\n",
              "      <td>179</td>\n",
              "      <td>0.068924</td>\n",
              "      <td>0</td>\n",
              "    </tr>\n",
              "    <tr>\n",
              "      <th>1</th>\n",
              "      <td>518</td>\n",
              "      <td>438</td>\n",
              "      <td>80</td>\n",
              "      <td>0.845560</td>\n",
              "      <td>0.154440</td>\n",
              "      <td>8</td>\n",
              "      <td>22</td>\n",
              "      <td>50.984252</td>\n",
              "      <td>265216</td>\n",
              "      <td>26103.937008</td>\n",
              "      <td>370.400747</td>\n",
              "      <td>150.591146</td>\n",
              "      <td>265216</td>\n",
              "      <td>0.019652</td>\n",
              "      <td>0.163930</td>\n",
              "      <td>93</td>\n",
              "      <td>236</td>\n",
              "      <td>-0.104867</td>\n",
              "      <td>0</td>\n",
              "    </tr>\n",
              "    <tr>\n",
              "      <th>2</th>\n",
              "      <td>1358</td>\n",
              "      <td>1240</td>\n",
              "      <td>118</td>\n",
              "      <td>0.913108</td>\n",
              "      <td>0.086892</td>\n",
              "      <td>7</td>\n",
              "      <td>23</td>\n",
              "      <td>122.232223</td>\n",
              "      <td>695296</td>\n",
              "      <td>62582.898290</td>\n",
              "      <td>288.543964</td>\n",
              "      <td>381.878642</td>\n",
              "      <td>695296</td>\n",
              "      <td>0.008187</td>\n",
              "      <td>0.066661</td>\n",
              "      <td>151</td>\n",
              "      <td>303</td>\n",
              "      <td>0.081140</td>\n",
              "      <td>0</td>\n",
              "    </tr>\n",
              "    <tr>\n",
              "      <th>3</th>\n",
              "      <td>1446</td>\n",
              "      <td>1324</td>\n",
              "      <td>122</td>\n",
              "      <td>0.915629</td>\n",
              "      <td>0.084371</td>\n",
              "      <td>9</td>\n",
              "      <td>21</td>\n",
              "      <td>108.233533</td>\n",
              "      <td>740352</td>\n",
              "      <td>55415.568862</td>\n",
              "      <td>284.712015</td>\n",
              "      <td>406.205288</td>\n",
              "      <td>740352</td>\n",
              "      <td>0.009246</td>\n",
              "      <td>0.047809</td>\n",
              "      <td>159</td>\n",
              "      <td>161</td>\n",
              "      <td>0.090254</td>\n",
              "      <td>0</td>\n",
              "    </tr>\n",
              "    <tr>\n",
              "      <th>4</th>\n",
              "      <td>1406</td>\n",
              "      <td>1291</td>\n",
              "      <td>115</td>\n",
              "      <td>0.918208</td>\n",
              "      <td>0.081792</td>\n",
              "      <td>8</td>\n",
              "      <td>22</td>\n",
              "      <td>132.142857</td>\n",
              "      <td>719872</td>\n",
              "      <td>67657.142857</td>\n",
              "      <td>280.725055</td>\n",
              "      <td>395.028889</td>\n",
              "      <td>719872</td>\n",
              "      <td>0.007573</td>\n",
              "      <td>0.038760</td>\n",
              "      <td>157</td>\n",
              "      <td>167</td>\n",
              "      <td>0.090400</td>\n",
              "      <td>0</td>\n",
              "    </tr>\n",
              "  </tbody>\n",
              "</table>\n",
              "</div>\n",
              "    <div class=\"colab-df-buttons\">\n",
              "\n",
              "  <div class=\"colab-df-container\">\n",
              "    <button class=\"colab-df-convert\" onclick=\"convertToInteractive('df-87f3a9cc-b959-4db6-9741-28d319105c6c')\"\n",
              "            title=\"Convert this dataframe to an interactive table.\"\n",
              "            style=\"display:none;\">\n",
              "\n",
              "  <svg xmlns=\"http://www.w3.org/2000/svg\" height=\"24px\" viewBox=\"0 -960 960 960\">\n",
              "    <path d=\"M120-120v-720h720v720H120Zm60-500h600v-160H180v160Zm220 220h160v-160H400v160Zm0 220h160v-160H400v160ZM180-400h160v-160H180v160Zm440 0h160v-160H620v160ZM180-180h160v-160H180v160Zm440 0h160v-160H620v160Z\"/>\n",
              "  </svg>\n",
              "    </button>\n",
              "\n",
              "  <style>\n",
              "    .colab-df-container {\n",
              "      display:flex;\n",
              "      gap: 12px;\n",
              "    }\n",
              "\n",
              "    .colab-df-convert {\n",
              "      background-color: #E8F0FE;\n",
              "      border: none;\n",
              "      border-radius: 50%;\n",
              "      cursor: pointer;\n",
              "      display: none;\n",
              "      fill: #1967D2;\n",
              "      height: 32px;\n",
              "      padding: 0 0 0 0;\n",
              "      width: 32px;\n",
              "    }\n",
              "\n",
              "    .colab-df-convert:hover {\n",
              "      background-color: #E2EBFA;\n",
              "      box-shadow: 0px 1px 2px rgba(60, 64, 67, 0.3), 0px 1px 3px 1px rgba(60, 64, 67, 0.15);\n",
              "      fill: #174EA6;\n",
              "    }\n",
              "\n",
              "    .colab-df-buttons div {\n",
              "      margin-bottom: 4px;\n",
              "    }\n",
              "\n",
              "    [theme=dark] .colab-df-convert {\n",
              "      background-color: #3B4455;\n",
              "      fill: #D2E3FC;\n",
              "    }\n",
              "\n",
              "    [theme=dark] .colab-df-convert:hover {\n",
              "      background-color: #434B5C;\n",
              "      box-shadow: 0px 1px 3px 1px rgba(0, 0, 0, 0.15);\n",
              "      filter: drop-shadow(0px 1px 2px rgba(0, 0, 0, 0.3));\n",
              "      fill: #FFFFFF;\n",
              "    }\n",
              "  </style>\n",
              "\n",
              "    <script>\n",
              "      const buttonEl =\n",
              "        document.querySelector('#df-87f3a9cc-b959-4db6-9741-28d319105c6c button.colab-df-convert');\n",
              "      buttonEl.style.display =\n",
              "        google.colab.kernel.accessAllowed ? 'block' : 'none';\n",
              "\n",
              "      async function convertToInteractive(key) {\n",
              "        const element = document.querySelector('#df-87f3a9cc-b959-4db6-9741-28d319105c6c');\n",
              "        const dataTable =\n",
              "          await google.colab.kernel.invokeFunction('convertToInteractive',\n",
              "                                                    [key], {});\n",
              "        if (!dataTable) return;\n",
              "\n",
              "        const docLinkHtml = 'Like what you see? Visit the ' +\n",
              "          '<a target=\"_blank\" href=https://colab.research.google.com/notebooks/data_table.ipynb>data table notebook</a>'\n",
              "          + ' to learn more about interactive tables.';\n",
              "        element.innerHTML = '';\n",
              "        dataTable['output_type'] = 'display_data';\n",
              "        await google.colab.output.renderOutput(dataTable, element);\n",
              "        const docLink = document.createElement('div');\n",
              "        docLink.innerHTML = docLinkHtml;\n",
              "        element.appendChild(docLink);\n",
              "      }\n",
              "    </script>\n",
              "  </div>\n",
              "\n",
              "\n",
              "<div id=\"df-ce607c36-8b8c-476b-a64c-ba8ce22282d5\">\n",
              "  <button class=\"colab-df-quickchart\" onclick=\"quickchart('df-ce607c36-8b8c-476b-a64c-ba8ce22282d5')\"\n",
              "            title=\"Suggest charts\"\n",
              "            style=\"display:none;\">\n",
              "\n",
              "<svg xmlns=\"http://www.w3.org/2000/svg\" height=\"24px\"viewBox=\"0 0 24 24\"\n",
              "     width=\"24px\">\n",
              "    <g>\n",
              "        <path d=\"M19 3H5c-1.1 0-2 .9-2 2v14c0 1.1.9 2 2 2h14c1.1 0 2-.9 2-2V5c0-1.1-.9-2-2-2zM9 17H7v-7h2v7zm4 0h-2V7h2v10zm4 0h-2v-4h2v4z\"/>\n",
              "    </g>\n",
              "</svg>\n",
              "  </button>\n",
              "\n",
              "<style>\n",
              "  .colab-df-quickchart {\n",
              "      --bg-color: #E8F0FE;\n",
              "      --fill-color: #1967D2;\n",
              "      --hover-bg-color: #E2EBFA;\n",
              "      --hover-fill-color: #174EA6;\n",
              "      --disabled-fill-color: #AAA;\n",
              "      --disabled-bg-color: #DDD;\n",
              "  }\n",
              "\n",
              "  [theme=dark] .colab-df-quickchart {\n",
              "      --bg-color: #3B4455;\n",
              "      --fill-color: #D2E3FC;\n",
              "      --hover-bg-color: #434B5C;\n",
              "      --hover-fill-color: #FFFFFF;\n",
              "      --disabled-bg-color: #3B4455;\n",
              "      --disabled-fill-color: #666;\n",
              "  }\n",
              "\n",
              "  .colab-df-quickchart {\n",
              "    background-color: var(--bg-color);\n",
              "    border: none;\n",
              "    border-radius: 50%;\n",
              "    cursor: pointer;\n",
              "    display: none;\n",
              "    fill: var(--fill-color);\n",
              "    height: 32px;\n",
              "    padding: 0;\n",
              "    width: 32px;\n",
              "  }\n",
              "\n",
              "  .colab-df-quickchart:hover {\n",
              "    background-color: var(--hover-bg-color);\n",
              "    box-shadow: 0 1px 2px rgba(60, 64, 67, 0.3), 0 1px 3px 1px rgba(60, 64, 67, 0.15);\n",
              "    fill: var(--button-hover-fill-color);\n",
              "  }\n",
              "\n",
              "  .colab-df-quickchart-complete:disabled,\n",
              "  .colab-df-quickchart-complete:disabled:hover {\n",
              "    background-color: var(--disabled-bg-color);\n",
              "    fill: var(--disabled-fill-color);\n",
              "    box-shadow: none;\n",
              "  }\n",
              "\n",
              "  .colab-df-spinner {\n",
              "    border: 2px solid var(--fill-color);\n",
              "    border-color: transparent;\n",
              "    border-bottom-color: var(--fill-color);\n",
              "    animation:\n",
              "      spin 1s steps(1) infinite;\n",
              "  }\n",
              "\n",
              "  @keyframes spin {\n",
              "    0% {\n",
              "      border-color: transparent;\n",
              "      border-bottom-color: var(--fill-color);\n",
              "      border-left-color: var(--fill-color);\n",
              "    }\n",
              "    20% {\n",
              "      border-color: transparent;\n",
              "      border-left-color: var(--fill-color);\n",
              "      border-top-color: var(--fill-color);\n",
              "    }\n",
              "    30% {\n",
              "      border-color: transparent;\n",
              "      border-left-color: var(--fill-color);\n",
              "      border-top-color: var(--fill-color);\n",
              "      border-right-color: var(--fill-color);\n",
              "    }\n",
              "    40% {\n",
              "      border-color: transparent;\n",
              "      border-right-color: var(--fill-color);\n",
              "      border-top-color: var(--fill-color);\n",
              "    }\n",
              "    60% {\n",
              "      border-color: transparent;\n",
              "      border-right-color: var(--fill-color);\n",
              "    }\n",
              "    80% {\n",
              "      border-color: transparent;\n",
              "      border-right-color: var(--fill-color);\n",
              "      border-bottom-color: var(--fill-color);\n",
              "    }\n",
              "    90% {\n",
              "      border-color: transparent;\n",
              "      border-bottom-color: var(--fill-color);\n",
              "    }\n",
              "  }\n",
              "</style>\n",
              "\n",
              "  <script>\n",
              "    async function quickchart(key) {\n",
              "      const quickchartButtonEl =\n",
              "        document.querySelector('#' + key + ' button');\n",
              "      quickchartButtonEl.disabled = true;  // To prevent multiple clicks.\n",
              "      quickchartButtonEl.classList.add('colab-df-spinner');\n",
              "      try {\n",
              "        const charts = await google.colab.kernel.invokeFunction(\n",
              "            'suggestCharts', [key], {});\n",
              "      } catch (error) {\n",
              "        console.error('Error during call to suggestCharts:', error);\n",
              "      }\n",
              "      quickchartButtonEl.classList.remove('colab-df-spinner');\n",
              "      quickchartButtonEl.classList.add('colab-df-quickchart-complete');\n",
              "    }\n",
              "    (() => {\n",
              "      let quickchartButtonEl =\n",
              "        document.querySelector('#df-ce607c36-8b8c-476b-a64c-ba8ce22282d5 button');\n",
              "      quickchartButtonEl.style.display =\n",
              "        google.colab.kernel.accessAllowed ? 'block' : 'none';\n",
              "    })();\n",
              "  </script>\n",
              "</div>\n",
              "\n",
              "    </div>\n",
              "  </div>\n"
            ],
            "text/plain": [
              "   n_pkt  n_in  n_out      r_in     r_out  n_in_first  n_out_first  \\\n",
              "0   1421  1300    121  0.914849  0.085151           9           21   \n",
              "1    518   438     80  0.845560  0.154440           8           22   \n",
              "2   1358  1240    118  0.913108  0.086892           7           23   \n",
              "3   1446  1324    122  0.915629  0.084371           9           21   \n",
              "4   1406  1291    115  0.918208  0.081792           8           22   \n",
              "\n",
              "   n_pkt_persec  sum_alt_concentration  alt_pkt_persec  std_ordering  \\\n",
              "0    140.138067                 727552    71750.690335    285.905893   \n",
              "1     50.984252                 265216    26103.937008    370.400747   \n",
              "2    122.232223                 695296    62582.898290    288.543964   \n",
              "3    108.233533                 740352    55415.568862    284.712015   \n",
              "4    132.142857                 719872    67657.142857    280.725055   \n",
              "\n",
              "   std_dev of outgoing  cumulative_pkt_size  avg_burst_interval  \\\n",
              "0           398.486335               727552            0.007141   \n",
              "1           150.591146               265216            0.019652   \n",
              "2           381.878642               695296            0.008187   \n",
              "3           406.205288               740352            0.009246   \n",
              "4           395.028889               719872            0.007573   \n",
              "\n",
              "   std_time_interval  sum_alternate_pkt_per_sec  \\\n",
              "0           0.041168                        155   \n",
              "1           0.163930                         93   \n",
              "2           0.066661                        151   \n",
              "3           0.047809                        159   \n",
              "4           0.038760                        157   \n",
              "\n",
              "   #of_packets_in_last_5_seconds  size_time_corr  label  \n",
              "0                            179        0.068924      0  \n",
              "1                            236       -0.104867      0  \n",
              "2                            303        0.081140      0  \n",
              "3                            161        0.090254      0  \n",
              "4                            167        0.090400      0  "
            ]
          },
          "execution_count": 4,
          "metadata": {},
          "output_type": "execute_result"
        }
      ],
      "source": [
        "# Check the DataFrame created with the features\n",
        "df_mon.head()"
      ]
    },
    {
      "cell_type": "code",
      "execution_count": null,
      "metadata": {
        "colab": {
          "base_uri": "https://localhost:8080/"
        },
        "id": "8hvIebcnI-cc",
        "outputId": "3639f65f-6e70-4f92-fde9-6be72274e433"
      },
      "outputs": [
        {
          "data": {
            "application/vnd.google.colaboratory.intrinsic+json": {
              "summary": "{\n  \"name\": \"df_mon\",\n  \"rows\": 5,\n  \"fields\": [\n    {\n      \"column\": \"n_pkt\",\n      \"properties\": {\n        \"dtype\": \"number\",\n        \"std\": 226,\n        \"min\": 9434,\n        \"max\": 9956,\n        \"num_unique_values\": 5,\n        \"samples\": [\n          9956,\n          9925,\n          9952\n        ],\n        \"semantic_type\": \"\",\n        \"description\": \"\"\n      }\n    },\n    {\n      \"column\": \"n_in\",\n      \"properties\": {\n        \"dtype\": \"number\",\n        \"std\": 235,\n        \"min\": 8815,\n        \"max\": 9404,\n        \"num_unique_values\": 5,\n        \"samples\": [\n          9404,\n          9168,\n          9373\n        ],\n        \"semantic_type\": \"\",\n        \"description\": \"\"\n      }\n    },\n    {\n      \"column\": \"n_out\",\n      \"properties\": {\n        \"dtype\": \"number\",\n        \"std\": 83,\n        \"min\": 552,\n        \"max\": 757,\n        \"num_unique_values\": 5,\n        \"samples\": [\n          552,\n          757,\n          579\n        ],\n        \"semantic_type\": \"\",\n        \"description\": \"\"\n      }\n    },\n    {\n      \"column\": \"r_in\",\n      \"properties\": {\n        \"dtype\": \"number\",\n        \"std\": 0.008450678058733393,\n        \"min\": 0.923727959697733,\n        \"max\": 0.9445560466050623,\n        \"num_unique_values\": 5,\n        \"samples\": [\n          0.9445560466050623,\n          0.923727959697733,\n          0.9418207395498392\n        ],\n        \"semantic_type\": \"\",\n        \"description\": \"\"\n      }\n    },\n    {\n      \"column\": \"r_out\",\n      \"properties\": {\n        \"dtype\": \"number\",\n        \"std\": 0.008450678058733393,\n        \"min\": 0.055443953394937684,\n        \"max\": 0.07627204030226697,\n        \"num_unique_values\": 5,\n        \"samples\": [\n          0.055443953394937684,\n          0.07627204030226697,\n          0.05817926045016075\n        ],\n        \"semantic_type\": \"\",\n        \"description\": \"\"\n      }\n    },\n    {\n      \"column\": \"n_in_first\",\n      \"properties\": {\n        \"dtype\": \"number\",\n        \"std\": 0,\n        \"min\": 7,\n        \"max\": 8,\n        \"num_unique_values\": 2,\n        \"samples\": [\n          8,\n          7\n        ],\n        \"semantic_type\": \"\",\n        \"description\": \"\"\n      }\n    },\n    {\n      \"column\": \"n_out_first\",\n      \"properties\": {\n        \"dtype\": \"number\",\n        \"std\": 0,\n        \"min\": 22,\n        \"max\": 23,\n        \"num_unique_values\": 2,\n        \"samples\": [\n          22,\n          23\n        ],\n        \"semantic_type\": \"\",\n        \"description\": \"\"\n      }\n    },\n    {\n      \"column\": \"n_pkt_persec\",\n      \"properties\": {\n        \"dtype\": \"number\",\n        \"std\": 203.5092193096853,\n        \"min\": 214.84855386016855,\n        \"max\": 721.2936046511628,\n        \"num_unique_values\": 5,\n        \"samples\": [\n          638.2051282051282,\n          721.2936046511628\n        ],\n        \"semantic_type\": \"\",\n        \"description\": \"\"\n      }\n    },\n    {\n      \"column\": \"sum_alt_concentration\",\n      \"properties\": {\n        \"dtype\": \"number\",\n        \"std\": 116035,\n        \"min\": 4830208,\n        \"max\": 5097472,\n        \"num_unique_values\": 5,\n        \"samples\": [\n          5097472,\n          5081600\n        ],\n        \"semantic_type\": \"\",\n        \"description\": \"\"\n      }\n    },\n    {\n      \"column\": \"alt_pkt_persec\",\n      \"properties\": {\n        \"dtype\": \"number\",\n        \"std\": 104196.72028655888,\n        \"min\": 110002.4595764063,\n        \"max\": 369302.32558139536,\n        \"num_unique_values\": 5,\n        \"samples\": [\n          326761.0256410256,\n          369302.32558139536\n        ],\n        \"semantic_type\": \"\",\n        \"description\": \"\"\n      }\n    },\n    {\n      \"column\": \"std_ordering\",\n      \"properties\": {\n        \"dtype\": \"number\",\n        \"std\": 15.239778123676516,\n        \"min\": 234.34879760162107,\n        \"max\": 271.8169676160202,\n        \"num_unique_values\": 5,\n        \"samples\": [\n          234.34879760162107,\n          271.8169676160202\n        ],\n        \"semantic_type\": \"\",\n        \"description\": \"\"\n      }\n    },\n    {\n      \"column\": \"std_dev of outgoing\",\n      \"properties\": {\n        \"dtype\": \"number\",\n        \"std\": 68.37836407531688,\n        \"min\": 2698.4633315723,\n        \"max\": 2863.806259076328,\n        \"num_unique_values\": 5,\n        \"samples\": [\n          2863.806259076328,\n          2825.2801550680497\n        ],\n        \"semantic_type\": \"\",\n        \"description\": \"\"\n      }\n    },\n    {\n      \"column\": \"cumulative_pkt_size\",\n      \"properties\": {\n        \"dtype\": \"number\",\n        \"std\": 116035,\n        \"min\": 4830208,\n        \"max\": 5097472,\n        \"num_unique_values\": 5,\n        \"samples\": [\n          5097472,\n          5081600\n        ],\n        \"semantic_type\": \"\",\n        \"description\": \"\"\n      }\n    },\n    {\n      \"column\": \"avg_burst_interval\",\n      \"properties\": {\n        \"dtype\": \"number\",\n        \"std\": 0.00137963166043317,\n        \"min\": 0.0013865376864167674,\n        \"max\": 0.004654934803349942,\n        \"num_unique_values\": 5,\n        \"samples\": [\n          0.0015670517327975892,\n          0.0013865376864167674\n        ],\n        \"semantic_type\": \"\",\n        \"description\": \"\"\n      }\n    },\n    {\n      \"column\": \"std_time_interval\",\n      \"properties\": {\n        \"dtype\": \"number\",\n        \"std\": 0.0560156782967336,\n        \"min\": 0.011074485099413913,\n        \"max\": 0.14396230741775018,\n        \"num_unique_values\": 5,\n        \"samples\": [\n          0.01946536543011229,\n          0.011074485099413913\n        ],\n        \"semantic_type\": \"\",\n        \"description\": \"\"\n      }\n    },\n    {\n      \"column\": \"sum_alternate_pkt_per_sec\",\n      \"properties\": {\n        \"dtype\": \"number\",\n        \"std\": 41,\n        \"min\": 722,\n        \"max\": 812,\n        \"num_unique_values\": 5,\n        \"samples\": [\n          722,\n          810\n        ],\n        \"semantic_type\": \"\",\n        \"description\": \"\"\n      }\n    },\n    {\n      \"column\": \"#of_packets_in_last_5_seconds\",\n      \"properties\": {\n        \"dtype\": \"number\",\n        \"std\": 1458,\n        \"min\": 4,\n        \"max\": 3962,\n        \"num_unique_values\": 5,\n        \"samples\": [\n          1740,\n          2814\n        ],\n        \"semantic_type\": \"\",\n        \"description\": \"\"\n      }\n    },\n    {\n      \"column\": \"size_time_corr\",\n      \"properties\": {\n        \"dtype\": \"number\",\n        \"std\": 0.039107215995528154,\n        \"min\": -0.0252225578367712,\n        \"max\": 0.06715746056466126,\n        \"num_unique_values\": 5,\n        \"samples\": [\n          -0.0252225578367712,\n          0.06715746056466126\n        ],\n        \"semantic_type\": \"\",\n        \"description\": \"\"\n      }\n    },\n    {\n      \"column\": \"label\",\n      \"properties\": {\n        \"dtype\": \"number\",\n        \"std\": 0,\n        \"min\": 94,\n        \"max\": 94,\n        \"num_unique_values\": 1,\n        \"samples\": [\n          94\n        ],\n        \"semantic_type\": \"\",\n        \"description\": \"\"\n      }\n    }\n  ]\n}",
              "type": "dataframe"
            },
            "text/html": [
              "\n",
              "  <div id=\"df-e4e1725e-8b52-490a-9fde-ab0a7c9942e1\" class=\"colab-df-container\">\n",
              "    <div>\n",
              "<style scoped>\n",
              "    .dataframe tbody tr th:only-of-type {\n",
              "        vertical-align: middle;\n",
              "    }\n",
              "\n",
              "    .dataframe tbody tr th {\n",
              "        vertical-align: top;\n",
              "    }\n",
              "\n",
              "    .dataframe thead th {\n",
              "        text-align: right;\n",
              "    }\n",
              "</style>\n",
              "<table border=\"1\" class=\"dataframe\">\n",
              "  <thead>\n",
              "    <tr style=\"text-align: right;\">\n",
              "      <th></th>\n",
              "      <th>n_pkt</th>\n",
              "      <th>n_in</th>\n",
              "      <th>n_out</th>\n",
              "      <th>r_in</th>\n",
              "      <th>r_out</th>\n",
              "      <th>n_in_first</th>\n",
              "      <th>n_out_first</th>\n",
              "      <th>n_pkt_persec</th>\n",
              "      <th>sum_alt_concentration</th>\n",
              "      <th>alt_pkt_persec</th>\n",
              "      <th>std_ordering</th>\n",
              "      <th>std_dev of outgoing</th>\n",
              "      <th>cumulative_pkt_size</th>\n",
              "      <th>avg_burst_interval</th>\n",
              "      <th>std_time_interval</th>\n",
              "      <th>sum_alternate_pkt_per_sec</th>\n",
              "      <th>#of_packets_in_last_5_seconds</th>\n",
              "      <th>size_time_corr</th>\n",
              "      <th>label</th>\n",
              "    </tr>\n",
              "  </thead>\n",
              "  <tbody>\n",
              "    <tr>\n",
              "      <th>18995</th>\n",
              "      <td>9434</td>\n",
              "      <td>8815</td>\n",
              "      <td>619</td>\n",
              "      <td>0.934386</td>\n",
              "      <td>0.065614</td>\n",
              "      <td>7</td>\n",
              "      <td>23</td>\n",
              "      <td>214.848554</td>\n",
              "      <td>4830208</td>\n",
              "      <td>110002.459576</td>\n",
              "      <td>253.561660</td>\n",
              "      <td>2698.463332</td>\n",
              "      <td>4830208</td>\n",
              "      <td>0.004655</td>\n",
              "      <td>0.143962</td>\n",
              "      <td>745</td>\n",
              "      <td>4</td>\n",
              "      <td>0.052816</td>\n",
              "      <td>94</td>\n",
              "    </tr>\n",
              "    <tr>\n",
              "      <th>18996</th>\n",
              "      <td>9956</td>\n",
              "      <td>9404</td>\n",
              "      <td>552</td>\n",
              "      <td>0.944556</td>\n",
              "      <td>0.055444</td>\n",
              "      <td>7</td>\n",
              "      <td>23</td>\n",
              "      <td>638.205128</td>\n",
              "      <td>5097472</td>\n",
              "      <td>326761.025641</td>\n",
              "      <td>234.348798</td>\n",
              "      <td>2863.806259</td>\n",
              "      <td>5097472</td>\n",
              "      <td>0.001567</td>\n",
              "      <td>0.019465</td>\n",
              "      <td>722</td>\n",
              "      <td>1740</td>\n",
              "      <td>-0.025223</td>\n",
              "      <td>94</td>\n",
              "    </tr>\n",
              "    <tr>\n",
              "      <th>18997</th>\n",
              "      <td>9952</td>\n",
              "      <td>9373</td>\n",
              "      <td>579</td>\n",
              "      <td>0.941821</td>\n",
              "      <td>0.058179</td>\n",
              "      <td>8</td>\n",
              "      <td>22</td>\n",
              "      <td>666.577361</td>\n",
              "      <td>5095424</td>\n",
              "      <td>341287.608841</td>\n",
              "      <td>239.712124</td>\n",
              "      <td>2857.611288</td>\n",
              "      <td>5095424</td>\n",
              "      <td>0.001500</td>\n",
              "      <td>0.016411</td>\n",
              "      <td>741</td>\n",
              "      <td>1997</td>\n",
              "      <td>-0.007395</td>\n",
              "      <td>94</td>\n",
              "    </tr>\n",
              "    <tr>\n",
              "      <th>18998</th>\n",
              "      <td>9926</td>\n",
              "      <td>9236</td>\n",
              "      <td>690</td>\n",
              "      <td>0.930486</td>\n",
              "      <td>0.069514</td>\n",
              "      <td>7</td>\n",
              "      <td>23</td>\n",
              "      <td>498.543446</td>\n",
              "      <td>5082112</td>\n",
              "      <td>255254.244098</td>\n",
              "      <td>260.443829</td>\n",
              "      <td>2844.328152</td>\n",
              "      <td>5082112</td>\n",
              "      <td>0.002006</td>\n",
              "      <td>0.033281</td>\n",
              "      <td>812</td>\n",
              "      <td>3962</td>\n",
              "      <td>0.028430</td>\n",
              "      <td>94</td>\n",
              "    </tr>\n",
              "    <tr>\n",
              "      <th>18999</th>\n",
              "      <td>9925</td>\n",
              "      <td>9168</td>\n",
              "      <td>757</td>\n",
              "      <td>0.923728</td>\n",
              "      <td>0.076272</td>\n",
              "      <td>7</td>\n",
              "      <td>23</td>\n",
              "      <td>721.293605</td>\n",
              "      <td>5081600</td>\n",
              "      <td>369302.325581</td>\n",
              "      <td>271.816968</td>\n",
              "      <td>2825.280155</td>\n",
              "      <td>5081600</td>\n",
              "      <td>0.001387</td>\n",
              "      <td>0.011074</td>\n",
              "      <td>810</td>\n",
              "      <td>2814</td>\n",
              "      <td>0.067157</td>\n",
              "      <td>94</td>\n",
              "    </tr>\n",
              "  </tbody>\n",
              "</table>\n",
              "</div>\n",
              "    <div class=\"colab-df-buttons\">\n",
              "\n",
              "  <div class=\"colab-df-container\">\n",
              "    <button class=\"colab-df-convert\" onclick=\"convertToInteractive('df-e4e1725e-8b52-490a-9fde-ab0a7c9942e1')\"\n",
              "            title=\"Convert this dataframe to an interactive table.\"\n",
              "            style=\"display:none;\">\n",
              "\n",
              "  <svg xmlns=\"http://www.w3.org/2000/svg\" height=\"24px\" viewBox=\"0 -960 960 960\">\n",
              "    <path d=\"M120-120v-720h720v720H120Zm60-500h600v-160H180v160Zm220 220h160v-160H400v160Zm0 220h160v-160H400v160ZM180-400h160v-160H180v160Zm440 0h160v-160H620v160ZM180-180h160v-160H180v160Zm440 0h160v-160H620v160Z\"/>\n",
              "  </svg>\n",
              "    </button>\n",
              "\n",
              "  <style>\n",
              "    .colab-df-container {\n",
              "      display:flex;\n",
              "      gap: 12px;\n",
              "    }\n",
              "\n",
              "    .colab-df-convert {\n",
              "      background-color: #E8F0FE;\n",
              "      border: none;\n",
              "      border-radius: 50%;\n",
              "      cursor: pointer;\n",
              "      display: none;\n",
              "      fill: #1967D2;\n",
              "      height: 32px;\n",
              "      padding: 0 0 0 0;\n",
              "      width: 32px;\n",
              "    }\n",
              "\n",
              "    .colab-df-convert:hover {\n",
              "      background-color: #E2EBFA;\n",
              "      box-shadow: 0px 1px 2px rgba(60, 64, 67, 0.3), 0px 1px 3px 1px rgba(60, 64, 67, 0.15);\n",
              "      fill: #174EA6;\n",
              "    }\n",
              "\n",
              "    .colab-df-buttons div {\n",
              "      margin-bottom: 4px;\n",
              "    }\n",
              "\n",
              "    [theme=dark] .colab-df-convert {\n",
              "      background-color: #3B4455;\n",
              "      fill: #D2E3FC;\n",
              "    }\n",
              "\n",
              "    [theme=dark] .colab-df-convert:hover {\n",
              "      background-color: #434B5C;\n",
              "      box-shadow: 0px 1px 3px 1px rgba(0, 0, 0, 0.15);\n",
              "      filter: drop-shadow(0px 1px 2px rgba(0, 0, 0, 0.3));\n",
              "      fill: #FFFFFF;\n",
              "    }\n",
              "  </style>\n",
              "\n",
              "    <script>\n",
              "      const buttonEl =\n",
              "        document.querySelector('#df-e4e1725e-8b52-490a-9fde-ab0a7c9942e1 button.colab-df-convert');\n",
              "      buttonEl.style.display =\n",
              "        google.colab.kernel.accessAllowed ? 'block' : 'none';\n",
              "\n",
              "      async function convertToInteractive(key) {\n",
              "        const element = document.querySelector('#df-e4e1725e-8b52-490a-9fde-ab0a7c9942e1');\n",
              "        const dataTable =\n",
              "          await google.colab.kernel.invokeFunction('convertToInteractive',\n",
              "                                                    [key], {});\n",
              "        if (!dataTable) return;\n",
              "\n",
              "        const docLinkHtml = 'Like what you see? Visit the ' +\n",
              "          '<a target=\"_blank\" href=https://colab.research.google.com/notebooks/data_table.ipynb>data table notebook</a>'\n",
              "          + ' to learn more about interactive tables.';\n",
              "        element.innerHTML = '';\n",
              "        dataTable['output_type'] = 'display_data';\n",
              "        await google.colab.output.renderOutput(dataTable, element);\n",
              "        const docLink = document.createElement('div');\n",
              "        docLink.innerHTML = docLinkHtml;\n",
              "        element.appendChild(docLink);\n",
              "      }\n",
              "    </script>\n",
              "  </div>\n",
              "\n",
              "\n",
              "<div id=\"df-23c81288-d0ba-4117-ac4c-454d896dc8ee\">\n",
              "  <button class=\"colab-df-quickchart\" onclick=\"quickchart('df-23c81288-d0ba-4117-ac4c-454d896dc8ee')\"\n",
              "            title=\"Suggest charts\"\n",
              "            style=\"display:none;\">\n",
              "\n",
              "<svg xmlns=\"http://www.w3.org/2000/svg\" height=\"24px\"viewBox=\"0 0 24 24\"\n",
              "     width=\"24px\">\n",
              "    <g>\n",
              "        <path d=\"M19 3H5c-1.1 0-2 .9-2 2v14c0 1.1.9 2 2 2h14c1.1 0 2-.9 2-2V5c0-1.1-.9-2-2-2zM9 17H7v-7h2v7zm4 0h-2V7h2v10zm4 0h-2v-4h2v4z\"/>\n",
              "    </g>\n",
              "</svg>\n",
              "  </button>\n",
              "\n",
              "<style>\n",
              "  .colab-df-quickchart {\n",
              "      --bg-color: #E8F0FE;\n",
              "      --fill-color: #1967D2;\n",
              "      --hover-bg-color: #E2EBFA;\n",
              "      --hover-fill-color: #174EA6;\n",
              "      --disabled-fill-color: #AAA;\n",
              "      --disabled-bg-color: #DDD;\n",
              "  }\n",
              "\n",
              "  [theme=dark] .colab-df-quickchart {\n",
              "      --bg-color: #3B4455;\n",
              "      --fill-color: #D2E3FC;\n",
              "      --hover-bg-color: #434B5C;\n",
              "      --hover-fill-color: #FFFFFF;\n",
              "      --disabled-bg-color: #3B4455;\n",
              "      --disabled-fill-color: #666;\n",
              "  }\n",
              "\n",
              "  .colab-df-quickchart {\n",
              "    background-color: var(--bg-color);\n",
              "    border: none;\n",
              "    border-radius: 50%;\n",
              "    cursor: pointer;\n",
              "    display: none;\n",
              "    fill: var(--fill-color);\n",
              "    height: 32px;\n",
              "    padding: 0;\n",
              "    width: 32px;\n",
              "  }\n",
              "\n",
              "  .colab-df-quickchart:hover {\n",
              "    background-color: var(--hover-bg-color);\n",
              "    box-shadow: 0 1px 2px rgba(60, 64, 67, 0.3), 0 1px 3px 1px rgba(60, 64, 67, 0.15);\n",
              "    fill: var(--button-hover-fill-color);\n",
              "  }\n",
              "\n",
              "  .colab-df-quickchart-complete:disabled,\n",
              "  .colab-df-quickchart-complete:disabled:hover {\n",
              "    background-color: var(--disabled-bg-color);\n",
              "    fill: var(--disabled-fill-color);\n",
              "    box-shadow: none;\n",
              "  }\n",
              "\n",
              "  .colab-df-spinner {\n",
              "    border: 2px solid var(--fill-color);\n",
              "    border-color: transparent;\n",
              "    border-bottom-color: var(--fill-color);\n",
              "    animation:\n",
              "      spin 1s steps(1) infinite;\n",
              "  }\n",
              "\n",
              "  @keyframes spin {\n",
              "    0% {\n",
              "      border-color: transparent;\n",
              "      border-bottom-color: var(--fill-color);\n",
              "      border-left-color: var(--fill-color);\n",
              "    }\n",
              "    20% {\n",
              "      border-color: transparent;\n",
              "      border-left-color: var(--fill-color);\n",
              "      border-top-color: var(--fill-color);\n",
              "    }\n",
              "    30% {\n",
              "      border-color: transparent;\n",
              "      border-left-color: var(--fill-color);\n",
              "      border-top-color: var(--fill-color);\n",
              "      border-right-color: var(--fill-color);\n",
              "    }\n",
              "    40% {\n",
              "      border-color: transparent;\n",
              "      border-right-color: var(--fill-color);\n",
              "      border-top-color: var(--fill-color);\n",
              "    }\n",
              "    60% {\n",
              "      border-color: transparent;\n",
              "      border-right-color: var(--fill-color);\n",
              "    }\n",
              "    80% {\n",
              "      border-color: transparent;\n",
              "      border-right-color: var(--fill-color);\n",
              "      border-bottom-color: var(--fill-color);\n",
              "    }\n",
              "    90% {\n",
              "      border-color: transparent;\n",
              "      border-bottom-color: var(--fill-color);\n",
              "    }\n",
              "  }\n",
              "</style>\n",
              "\n",
              "  <script>\n",
              "    async function quickchart(key) {\n",
              "      const quickchartButtonEl =\n",
              "        document.querySelector('#' + key + ' button');\n",
              "      quickchartButtonEl.disabled = true;  // To prevent multiple clicks.\n",
              "      quickchartButtonEl.classList.add('colab-df-spinner');\n",
              "      try {\n",
              "        const charts = await google.colab.kernel.invokeFunction(\n",
              "            'suggestCharts', [key], {});\n",
              "      } catch (error) {\n",
              "        console.error('Error during call to suggestCharts:', error);\n",
              "      }\n",
              "      quickchartButtonEl.classList.remove('colab-df-spinner');\n",
              "      quickchartButtonEl.classList.add('colab-df-quickchart-complete');\n",
              "    }\n",
              "    (() => {\n",
              "      let quickchartButtonEl =\n",
              "        document.querySelector('#df-23c81288-d0ba-4117-ac4c-454d896dc8ee button');\n",
              "      quickchartButtonEl.style.display =\n",
              "        google.colab.kernel.accessAllowed ? 'block' : 'none';\n",
              "    })();\n",
              "  </script>\n",
              "</div>\n",
              "\n",
              "    </div>\n",
              "  </div>\n"
            ],
            "text/plain": [
              "       n_pkt  n_in  n_out      r_in     r_out  n_in_first  n_out_first  \\\n",
              "18995   9434  8815    619  0.934386  0.065614           7           23   \n",
              "18996   9956  9404    552  0.944556  0.055444           7           23   \n",
              "18997   9952  9373    579  0.941821  0.058179           8           22   \n",
              "18998   9926  9236    690  0.930486  0.069514           7           23   \n",
              "18999   9925  9168    757  0.923728  0.076272           7           23   \n",
              "\n",
              "       n_pkt_persec  sum_alt_concentration  alt_pkt_persec  std_ordering  \\\n",
              "18995    214.848554                4830208   110002.459576    253.561660   \n",
              "18996    638.205128                5097472   326761.025641    234.348798   \n",
              "18997    666.577361                5095424   341287.608841    239.712124   \n",
              "18998    498.543446                5082112   255254.244098    260.443829   \n",
              "18999    721.293605                5081600   369302.325581    271.816968   \n",
              "\n",
              "       std_dev of outgoing  cumulative_pkt_size  avg_burst_interval  \\\n",
              "18995          2698.463332              4830208            0.004655   \n",
              "18996          2863.806259              5097472            0.001567   \n",
              "18997          2857.611288              5095424            0.001500   \n",
              "18998          2844.328152              5082112            0.002006   \n",
              "18999          2825.280155              5081600            0.001387   \n",
              "\n",
              "       std_time_interval  sum_alternate_pkt_per_sec  \\\n",
              "18995           0.143962                        745   \n",
              "18996           0.019465                        722   \n",
              "18997           0.016411                        741   \n",
              "18998           0.033281                        812   \n",
              "18999           0.011074                        810   \n",
              "\n",
              "       #of_packets_in_last_5_seconds  size_time_corr  label  \n",
              "18995                              4        0.052816     94  \n",
              "18996                           1740       -0.025223     94  \n",
              "18997                           1997       -0.007395     94  \n",
              "18998                           3962        0.028430     94  \n",
              "18999                           2814        0.067157     94  "
            ]
          },
          "execution_count": 5,
          "metadata": {},
          "output_type": "execute_result"
        }
      ],
      "source": [
        "df_mon.tail()"
      ]
    },
    {
      "cell_type": "markdown",
      "metadata": {
        "id": "TEO_v3CTHzKl"
      },
      "source": [
        "Final Extracted Feature List (total: 18)\n",
        "\n",
        "- n_pkt: Total number of packets\n",
        "- n_in: Number of incoming packets\n",
        "- n_out: Number of outgoing packets\n",
        "- r_in: Number of incoming packets as a fraction of the total number\n",
        "- r_out: Number of outgoing packets as a fraction of the total number\n",
        "- n_in_first: Number of incoming packets for the first 30 packets\n",
        "- n_out_first: Number of outgoig packets for the first 30 packets\n",
        "- n_pkt_persec: Number of packets per second\n",
        "- sum_alt_concentration:Sum of absolute packet sizes\n",
        "- alt_pkt_persec: Average absolute packet size per second\n",
        "- std_ordering: Standard Deviation of Packet Sizes\n",
        "- std_dev of outgoing: Standard Derivation of Outgoing Packets\n",
        "- cumulative_pkt_size: Cumulative Packet Size\n",
        "- avg_burst_interval: Average of Burst Interval\n",
        "- std_time_interval: Standard Deviation of Time Intervals\n",
        "- sum_alternate_pkt_per_sec: Number of packets changing direction per second in each sample\n",
        "- #of_packets_in_last_5_seconds: Number of packets during the last 5 seconds\n",
        "- size_time_corr: Pearson Correlation Coefficient Between Packet Size and Timestamp"
      ]
    },
    {
      "cell_type": "markdown",
      "metadata": {
        "id": "MgY-FQ57KUya"
      },
      "source": [
        "## 3. Feature Importance Extraction"
      ]
    },
    {
      "cell_type": "code",
      "execution_count": null,
      "metadata": {
        "colab": {
          "base_uri": "https://localhost:8080/"
        },
        "id": "drbz_R7QKeER",
        "outputId": "979ed1c7-ebfe-4ac1-e370-c125b889ddc1"
      },
      "outputs": [
        {
          "name": "stdout",
          "output_type": "stream",
          "text": [
            "[0.35105263 0.49263158 0.46394737 0.46578947 0.46342105]\n",
            "0.4473684210526316\n",
            "[ 3  1 10 11  2]\n",
            "['r_in', 'n_in', 'std_ordering', 'std_dev of outgoing', 'n_out']\n"
          ]
        }
      ],
      "source": [
        "# Extract feature importance using feature_importances_\n",
        "\n",
        "from sklearn.ensemble import RandomForestClassifier\n",
        "from sklearn.model_selection import train_test_split\n",
        "from sklearn.model_selection import cross_val_score\n",
        "\n",
        "X = df_mon[df_mon.columns[:-1]]\n",
        "y = df_mon['label']\n",
        "\n",
        "X_train, X_test, y_train, y_test = train_test_split(X, y,test_size=0.2, random_state=2)\n",
        "\n",
        "clf = RandomForestClassifier(n_estimators=20, criterion=\"entropy\", max_depth=100, min_samples_split=2, max_features=\"sqrt\", random_state=2)\n",
        "clf.fit(X_train, y_train)\n",
        "y_pred = clf.predict(X_test)\n",
        "\n",
        "scores = cross_val_score(clf, X, y, cv=5)\n",
        "print(scores)\n",
        "print(sum(scores)/len(scores))\n",
        "# feature importance is computed using the gini impurity (total decrease in node impurity averaged over all trees in the ensemble)\n",
        "imp_score=clf.feature_importances_\n",
        "\n",
        "# pick top 5 features\n",
        "# np.argsort returns \"indices\" in ascending order\n",
        "top_indices=np.argsort(imp_score)[::-1][:5]\n",
        "print(top_indices)\n",
        "top_feature_names = [df_mon.columns[int(x)] for x in top_indices]\n",
        "print(top_feature_names)"
      ]
    },
    {
      "cell_type": "code",
      "execution_count": null,
      "metadata": {
        "colab": {
          "base_uri": "https://localhost:8080/"
        },
        "collapsed": true,
        "id": "sMedxoebLKDL",
        "outputId": "e0cb8129-8fd0-45e2-ae88-72b47c5909ca"
      },
      "outputs": [
        {
          "data": {
            "image/png": "[encoded data removed]",
            "text/plain": [
              "<Figure size 1000x600 with 1 Axes>"
            ]
          },
          "metadata": {},
          "output_type": "display_data"
        }
      ],
      "source": [
        "# Visualize Feature Importance\n",
        "\n",
        "import seaborn as sns\n",
        "import matplotlib.pyplot as plt\n",
        "\n",
        "feature_imp = pd.Series(clf.feature_importances_, index=df_mon.columns[:-1]).sort_values(ascending=False)\n",
        "\n",
        "plt.figure(figsize=(10,6))\n",
        "sns.barplot(x=feature_imp, y=feature_imp.index)\n",
        "# Add labels to your graph\n",
        "plt.xlabel('Feature Importance Score')\n",
        "plt.ylabel('Features')\n",
        "plt.title(\"Visualizing Important Features\")\n",
        "plt.tight_layout()"
      ]
    },
    {
      "cell_type": "markdown",
      "metadata": {
        "id": "FGoGsx5ZL077"
      },
      "source": [
        "## 4. Compute Accuray : SVM"
      ]
    },
    {
      "cell_type": "code",
      "execution_count": null,
      "metadata": {
        "id": "Wn3urV136rli"
      },
      "outputs": [],
      "source": [
        "# SVM - Compute Accuracy\n",
        "from sklearn.model_selection import train_test_split\n",
        "from sklearn.preprocessing import StandardScaler\n",
        "from sklearn.svm import SVC\n",
        "from sklearn.metrics import accuracy_score\n",
        "from sklearn.model_selection import GridSearchCV"
      ]
    },
    {
      "cell_type": "markdown",
      "metadata": {
        "id": "Eh05WeOOs5Z3"
      },
      "source": [
        "### **Case 1 : Use All features**\n",
        "Best Case : RBF Kernel (C:1000, gamma: 0.1), Accuracy 71.34%"
      ]
    },
    {
      "cell_type": "code",
      "execution_count": null,
      "metadata": {
        "id": "ZleGSaKgsrHm"
      },
      "outputs": [],
      "source": [
        "# Case 1 : Use all features\n",
        "\n",
        "X = df_mon[df_mon.columns[:-1]] # Use all features\n",
        "y = df_mon['label']\n",
        "\n",
        "X_train, X_test, y_train, y_test = train_test_split(X, y,test_size=0.2, random_state=1)\n",
        "\n",
        "# Scaling data\n",
        "scaler = StandardScaler()\n",
        "X_train = scaler.fit_transform(X_train)\n",
        "X_test = scaler.transform(X_test)"
      ]
    },
    {
      "cell_type": "markdown",
      "metadata": {
        "id": "dKJCTKg47Gio"
      },
      "source": [
        "#### 1) Linear Kernel\n",
        "- Best Parameters : 'C': 10, 'gamma': 1\n",
        "- Accuracy based on the best parameters : 50.21%"
      ]
    },
    {
      "cell_type": "code",
      "execution_count": null,
      "metadata": {
        "colab": {
          "base_uri": "https://localhost:8080/"
        },
        "id": "88fpdmLW6h1a",
        "outputId": "8ff3aab5-cdaf-4d0d-cefa-cc6e57de27c2"
      },
      "outputs": [
        {
          "name": "stdout",
          "output_type": "stream",
          "text": [
            "Fitting 3 folds for each of 15 candidates, totalling 45 fits\n",
            "Best Parameters\n",
            "{'C': 10, 'gamma': 1, 'kernel': 'linear'}\n",
            "\n",
            "Accuracy based on the best parameters\n",
            "50.21%\n",
            "\n",
            "Test set accuracy based on the best parameters\n",
            "49.61%\n"
          ]
        }
      ],
      "source": [
        "# 1. Linear Kernel\n",
        "# make parameter grid\n",
        "param_grid_l = {\n",
        "    'kernel': ['linear'],\n",
        "    'C': [0.1, 1, 10],\n",
        "    'gamma': [1, 0.1, 0.01, 0.001, 0.0001]\n",
        "}\n",
        "\n",
        "# grid search - find the best parameter\n",
        "grid_search_l = GridSearchCV(SVC(), param_grid_l, cv=3, verbose=2, n_jobs=-1)\n",
        "grid_search_l.fit(X_train, y_train)\n",
        "\n",
        "best_model_l = grid_search_l.best_estimator_\n",
        "y_pred_l = best_model_l.predict(X_test)\n",
        "test_accuracy_l = accuracy_score(y_test, y_pred_l)\n",
        "\n",
        "print(\"Best Parameters\")\n",
        "print(f\"{grid_search_l.best_params_}\")\n",
        "print()\n",
        "print(\"Accuracy based on the best parameters\")\n",
        "print(f\"{grid_search_l.best_score_ * 100:.2f}%\")\n",
        "print()\n",
        "print(\"Test set accuracy based on the best parameters\")\n",
        "print(f\"{test_accuracy_l * 100:.2f}%\")"
      ]
    },
    {
      "cell_type": "code",
      "execution_count": null,
      "metadata": {
        "colab": {
          "base_uri": "https://localhost:8080/"
        },
        "id": "gfSva_Tjs4Xk",
        "outputId": "cd1383a4-81e0-45c8-b57d-e3fe797d735c"
      },
      "outputs": [
        {
          "name": "stdout",
          "output_type": "stream",
          "text": [
            "Accuracy of SVM using linear kernel\n",
            "52.87%, 52.87%, 52.87%\n"
          ]
        }
      ],
      "source": [
        "# Additional parameter combination to consider\n",
        "\n",
        "m_lo = SVC(kernel='linear', C=100, gamma=1)\n",
        "m_lo.fit(X_train, y_train)\n",
        "y_lo = m_lo.predict(X_test)\n",
        "\n",
        "m_lt = SVC(kernel='linear', C=100, gamma=0.1)\n",
        "m_lt.fit(X_train, y_train)\n",
        "y_lt = m_lt.predict(X_test)\n",
        "\n",
        "m_lh = SVC(kernel='linear', C=100, gamma=0.01)\n",
        "m_lh.fit(X_train, y_train)\n",
        "y_lh = m_lh.predict(X_test)\n",
        "\n",
        "accuracy_lo = accuracy_score(y_test, y_lo)\n",
        "accuracy_lt = accuracy_score(y_test, y_lt)\n",
        "accuracy_lh = accuracy_score(y_test, y_lh)\n",
        "\n",
        "print(\"Accuracy of SVM using linear kernel\")\n",
        "print(f\"{accuracy_lo * 100:.2f}%, {accuracy_lt * 100:.2f}%, {accuracy_lh * 100:.2f}%\")"
      ]
    },
    {
      "cell_type": "markdown",
      "metadata": {
        "id": "2WRfyI8x7tDW"
      },
      "source": [
        "#### 2) RBF Kernel\n",
        "- Best Parameters : 'C': 1000, 'gamma': 0.1\n",
        "- Accuracy based on the best parameters : **71.34%**\n"
      ]
    },
    {
      "cell_type": "code",
      "execution_count": null,
      "metadata": {
        "colab": {
          "base_uri": "https://localhost:8080/"
        },
        "id": "Bf_j-DjS7tDY",
        "outputId": "6a7ca549-7593-4ac5-92f6-e20713835a0b"
      },
      "outputs": [
        {
          "name": "stdout",
          "output_type": "stream",
          "text": [
            "Fitting 3 folds for each of 25 candidates, totalling 75 fits\n",
            "Best Parameters\n",
            "{'C': 1000, 'gamma': 0.1, 'kernel': 'rbf'}\n",
            "\n",
            "Accuracy based on the best parameters\n",
            "71.34%\n",
            "\n",
            "Test set accuracy based on the best parameters\n",
            "73.05%\n"
          ]
        }
      ],
      "source": [
        "# 2. RBF Kernel\n",
        "param_grid_r = {\n",
        "    'kernel': ['rbf'],\n",
        "    'C': [0.1, 1, 10, 100, 1000],\n",
        "    'gamma': [1, 0.1, 0.01, 0.001, 0.0001]\n",
        "}\n",
        "\n",
        "grid_search_r = GridSearchCV(SVC(), param_grid_r, cv=3, verbose=2, n_jobs=-1)\n",
        "grid_search_r.fit(X_train, y_train)\n",
        "\n",
        "best_model_r = grid_search_r.best_estimator_\n",
        "y_pred_r = best_model_r.predict(X_test)\n",
        "test_accuracy_r = accuracy_score(y_test, y_pred_r)\n",
        "\n",
        "print(\"Best Parameters\")\n",
        "print(f\"{grid_search_r.best_params_}\")\n",
        "print()\n",
        "print(\"Accuracy based on the best parameters\")\n",
        "print(f\"{grid_search_r.best_score_ * 100:.2f}%\")\n",
        "print()\n",
        "print(\"Test set accuracy based on the best parameters\")\n",
        "print(f\"{test_accuracy_r * 100:.2f}%\")"
      ]
    },
    {
      "cell_type": "markdown",
      "metadata": {
        "id": "S75F7NC--ttv"
      },
      "source": [
        "#### 3) Polynomial Kernel\n",
        "- Best Parameters : 'C': 100, 'gamma': 0.1\n",
        "- Accuracy based on the best parameters : 66.07%"
      ]
    },
    {
      "cell_type": "code",
      "execution_count": null,
      "metadata": {
        "colab": {
          "base_uri": "https://localhost:8080/"
        },
        "id": "S7t_oeij-ttw",
        "outputId": "a2515d94-02df-4775-e1c5-8ab080ec1eb0"
      },
      "outputs": [
        {
          "name": "stdout",
          "output_type": "stream",
          "text": [
            "Fitting 3 folds for each of 16 candidates, totalling 48 fits\n",
            "Best Parameters\n",
            "{'C': 100, 'gamma': 0.1, 'kernel': 'poly'}\n",
            "\n",
            "Accuracy based on the best parameters\n",
            "66.07%\n",
            "\n",
            "Test set accuracy based on the best parameters\n",
            "67.74%\n"
          ]
        }
      ],
      "source": [
        "# 3. Polynomial Kernel\n",
        "param_grid_p = {\n",
        "    'kernel': ['poly'],\n",
        "    'C': [0.1, 1, 10, 100],\n",
        "    'gamma': [0.1, 0.01, 0.001, 0.0001]\n",
        "}\n",
        "\n",
        "grid_search_p = GridSearchCV(SVC(), param_grid_p, cv=3, verbose=2, n_jobs=-1)\n",
        "grid_search_p.fit(X_train, y_train)\n",
        "\n",
        "best_model_p = grid_search_p.best_estimator_\n",
        "y_pred_p = best_model_p.predict(X_test)\n",
        "test_accuracy_p = accuracy_score(y_test, y_pred_p)\n",
        "\n",
        "print(\"Best Parameters\")\n",
        "print(f\"{grid_search_p.best_params_}\")\n",
        "print()\n",
        "print(\"Accuracy based on the best parameters\")\n",
        "print(f\"{grid_search_p.best_score_ * 100:.2f}%\")\n",
        "print()\n",
        "print(\"Test set accuracy based on the best parameters\")\n",
        "print(f\"{test_accuracy_p * 100:.2f}%\")"
      ]
    },
    {
      "cell_type": "code",
      "execution_count": null,
      "metadata": {
        "colab": {
          "base_uri": "https://localhost:8080/"
        },
        "id": "f5XJwaHp_Vgq",
        "outputId": "be15a4e4-97bc-4188-bc2a-a1879d82f6df"
      },
      "outputs": [
        {
          "name": "stdout",
          "output_type": "stream",
          "text": [
            "Accuracy of SVM using poly kernel\n",
            "67.74%, 69.63%\n"
          ]
        }
      ],
      "source": [
        "# Additional parameter combinations to consider\n",
        "\n",
        "m_po = SVC(kernel='poly', C=0.1, gamma=1)\n",
        "m_po.fit(X_train, y_train)\n",
        "y_po = m_po.predict(X_test)\n",
        "\n",
        "m_pt = SVC(kernel='poly', C=1, gamma=1)\n",
        "m_pt.fit(X_train, y_train)\n",
        "y_pt = m_pt.predict(X_test)\n",
        "\n",
        "accuracy_po = accuracy_score(y_test, y_po)\n",
        "accuracy_pt = accuracy_score(y_test, y_pt)\n",
        "\n",
        "print(\"Accuracy of SVM using poly kernel\")\n",
        "print(f\"{accuracy_po * 100:.2f}%, {accuracy_pt * 100:.2f}%\")"
      ]
    },
    {
      "cell_type": "markdown",
      "metadata": {
        "id": "Hb5q18xe_rC_"
      },
      "source": [
        "#### 4) Sigmoid Kernel\n",
        "- Best Parameters : 'C': 1000, 'gamma': 0.001\n",
        "- Accuracy based on the best parameters : 44.21%"
      ]
    },
    {
      "cell_type": "code",
      "execution_count": null,
      "metadata": {
        "colab": {
          "base_uri": "https://localhost:8080/"
        },
        "id": "HZsJy9c__rDB",
        "outputId": "264f814f-e88c-4ac7-f6c4-152d8144f477"
      },
      "outputs": [
        {
          "name": "stdout",
          "output_type": "stream",
          "text": [
            "Fitting 3 folds for each of 20 candidates, totalling 60 fits\n",
            "Best Parameters\n",
            "{'C': 1000, 'gamma': 0.001, 'kernel': 'sigmoid'}\n",
            "\n",
            "Accuracy based on the best parameters\n",
            "44.21%\n",
            "\n",
            "Test set accuracy based on the best parameters\n",
            "43.95%\n"
          ]
        }
      ],
      "source": [
        "# 4. Sigmoid Kernel\n",
        "param_grid_s = {\n",
        "    'kernel': ['sigmoid'],\n",
        "    'C': [0.1, 1, 10, 100, 1000],\n",
        "    'gamma': [1, 0.1, 0.001, 0.0001]\n",
        "}\n",
        "\n",
        "grid_search_s = GridSearchCV(SVC(), param_grid_s, cv=3, verbose=2, n_jobs=-1)\n",
        "grid_search_s.fit(X_train, y_train)\n",
        "\n",
        "best_model_s = grid_search_s.best_estimator_\n",
        "y_pred_s = best_model_s.predict(X_test)\n",
        "test_accuracy_s = accuracy_score(y_test, y_pred_s)\n",
        "\n",
        "print(\"Best Parameters\")\n",
        "print(f\"{grid_search_s.best_params_}\")\n",
        "print()\n",
        "print(\"Accuracy based on the best parameters\")\n",
        "print(f\"{grid_search_s.best_score_ * 100:.2f}%\")\n",
        "print()\n",
        "print(\"Test set accuracy based on the best parameters\")\n",
        "print(f\"{test_accuracy_s * 100:.2f}%\")"
      ]
    },
    {
      "cell_type": "code",
      "execution_count": null,
      "metadata": {
        "colab": {
          "base_uri": "https://localhost:8080/"
        },
        "id": "Ti3qeAob_rDC",
        "outputId": "d2fdb4fd-6bf8-4a6e-f104-2bd1f560e709"
      },
      "outputs": [
        {
          "name": "stdout",
          "output_type": "stream",
          "text": [
            "Accuracy of SVM using sigmoid kernel\n",
            "9.50%, 25.74%, 31.50%\n"
          ]
        }
      ],
      "source": [
        "# Additional parameter combinations to consider\n",
        "\n",
        "m_so = SVC(kernel='sigmoid', C=0.1, gamma=0.01)\n",
        "m_so.fit(X_train, y_train)\n",
        "y_so = m_so.predict(X_test)\n",
        "\n",
        "m_st = SVC(kernel='sigmoid', C=1, gamma=0.01)\n",
        "m_st.fit(X_train, y_train)\n",
        "y_st = m_st.predict(X_test)\n",
        "\n",
        "m_sh = SVC(kernel='sigmoid', C=10, gamma=0.01)\n",
        "m_sh.fit(X_train, y_train)\n",
        "y_sh = m_sh.predict(X_test)\n",
        "\n",
        "accuracy_so = accuracy_score(y_test, y_so)\n",
        "accuracy_st = accuracy_score(y_test, y_st)\n",
        "accuracy_sh = accuracy_score(y_test, y_sh)\n",
        "\n",
        "print(\"Accuracy of SVM using sigmoid kernel\")\n",
        "print(f\"{accuracy_so * 100:.2f}%, {accuracy_st * 100:.2f}%, {accuracy_sh * 100:.2f}%\")"
      ]
    },
    {
      "cell_type": "markdown",
      "metadata": {
        "id": "0-5oWxrfAq0-"
      },
      "source": [
        "### **Case 2 : Use Top 10 features**\n",
        "Best Case : RBF Kernel (C:100, gamma: 1), Accuracy 57.64%"
      ]
    },
    {
      "cell_type": "code",
      "execution_count": null,
      "metadata": {
        "id": "n70qgDPaAq1B"
      },
      "outputs": [],
      "source": [
        "# Case 2 : Use Top 10 features\n",
        "\n",
        "X = df_mon[df_mon.columns[:10]] # Use Top 10 features\n",
        "y = df_mon['label']\n",
        "\n",
        "X_train, X_test, y_train, y_test = train_test_split(X, y,test_size=0.2, random_state=1)\n",
        "\n",
        "# Scaling data\n",
        "scaler = StandardScaler()\n",
        "X_train = scaler.fit_transform(X_train)\n",
        "X_test = scaler.transform(X_test)"
      ]
    },
    {
      "cell_type": "markdown",
      "metadata": {
        "id": "LWqw5fe3Aq1C"
      },
      "source": [
        "#### 1) Linear Kernel\n",
        "- Best Parameters : 'C': 10, 'gamma': 1\n",
        "- Accuracy based on the best parameters : 19.93%"
      ]
    },
    {
      "cell_type": "code",
      "execution_count": null,
      "metadata": {
        "colab": {
          "background_save": true,
          "base_uri": "https://localhost:8080/"
        },
        "id": "pweSD9bXAq1C",
        "outputId": "44ab69c7-e866-45a5-a089-d1bc96c9db83"
      },
      "outputs": [
        {
          "name": "stdout",
          "output_type": "stream",
          "text": [
            "Fitting 3 folds for each of 6 candidates, totalling 18 fits\n"
          ]
        }
      ],
      "source": [
        "# 1. Linear Kernel\n",
        "# make parameter grid\n",
        "param_grid_l = {\n",
        "    'kernel': ['linear'],\n",
        "    'C': [1, 10],\n",
        "    'gamma': [1, 0.1, 0.01]\n",
        "}\n",
        "\n",
        "# grid search - find the best parameter\n",
        "grid_search_l = GridSearchCV(SVC(), param_grid_l, cv=3, verbose=2, n_jobs=-1)\n",
        "grid_search_l.fit(X_train, y_train)\n",
        "\n",
        "best_model_l = grid_search_l.best_estimator_\n",
        "y_pred_l = best_model_l.predict(X_test)\n",
        "test_accuracy_l = accuracy_score(y_test, y_pred_l)\n",
        "\n",
        "print(\"Best Parameters\")\n",
        "print(f\"{grid_search_l.best_params_}\")\n",
        "print()\n",
        "print(\"Accuracy based on the best parameters\")\n",
        "print(f\"{grid_search_l.best_score_ * 100:.2f}%\")\n",
        "print()\n",
        "print(\"Test set accuracy based on the best parameters\")\n",
        "print(f\"{test_accuracy_l * 100:.2f}%\")"
      ]
    },
    {
      "cell_type": "code",
      "execution_count": null,
      "metadata": {
        "id": "ti7pZnm1Aq1D"
      },
      "outputs": [],
      "source": [
        "# Additional parameter combination to consider\n",
        "\n",
        "m_lo = SVC(kernel='linear', C=100, gamma=1)\n",
        "m_lo.fit(X_train, y_train)\n",
        "y_lo = m_lo.predict(X_test)\n",
        "\n",
        "m_lt = SVC(kernel='linear', C=100, gamma=0.1)\n",
        "m_lt.fit(X_train, y_train)\n",
        "y_lt = m_lt.predict(X_test)\n",
        "\n",
        "m_lh = SVC(kernel='linear', C=100, gamma=0.01)\n",
        "m_lh.fit(X_train, y_train)\n",
        "y_lh = m_lh.predict(X_test)\n",
        "\n",
        "accuracy_lo = accuracy_score(y_test, y_lo)\n",
        "accuracy_lt = accuracy_score(y_test, y_lt)\n",
        "accuracy_lh = accuracy_score(y_test, y_lh)\n",
        "\n",
        "print(\"Accuracy of SVM using linear kernel\")\n",
        "print(f\"{accuracy_lo * 100:.2f}%, {accuracy_lt * 100:.2f}%, {accuracy_lh * 100:.2f}%\")"
      ]
    },
    {
      "cell_type": "markdown",
      "metadata": {
        "id": "hFUguNt_Aq1D"
      },
      "source": [
        "#### 2) RBF Kernel\n",
        "- Best Parameters : 'C': 100, 'gamma': 1\n",
        "- Accuracy based on the best parameters : **57.64%**"
      ]
    },
    {
      "cell_type": "code",
      "execution_count": null,
      "metadata": {
        "colab": {
          "base_uri": "https://localhost:8080/"
        },
        "id": "c9R6usQVAq1E",
        "outputId": "bc6c42ef-3e09-4237-dd39-205dd8a316ce"
      },
      "outputs": [
        {
          "name": "stdout",
          "output_type": "stream",
          "text": [
            "Fitting 3 folds for each of 25 candidates, totalling 75 fits\n",
            "Best Parameters\n",
            "{'C': 100, 'gamma': 1, 'kernel': 'rbf'}\n",
            "\n",
            "Accuracy based on the best parameters\n",
            "57.64%\n",
            "\n",
            "Test set accuracy based on the best parameters\n",
            "58.24%\n"
          ]
        }
      ],
      "source": [
        "# 2. RBF Kernel\n",
        "param_grid_r = {\n",
        "    'kernel': ['rbf'],\n",
        "    'C': [0.1, 1, 10, 100, 1000],\n",
        "    'gamma': [1, 0.1, 0.01, 0.001, 0.0001]\n",
        "}\n",
        "\n",
        "grid_search_r = GridSearchCV(SVC(), param_grid_r, cv=3, verbose=2, n_jobs=-1)\n",
        "grid_search_r.fit(X_train, y_train)\n",
        "\n",
        "best_model_r = grid_search_r.best_estimator_\n",
        "y_pred_r = best_model_r.predict(X_test)\n",
        "test_accuracy_r = accuracy_score(y_test, y_pred_r)\n",
        "\n",
        "print(\"Best Parameters\")\n",
        "print(f\"{grid_search_r.best_params_}\")\n",
        "print()\n",
        "print(\"Accuracy based on the best parameters\")\n",
        "print(f\"{grid_search_r.best_score_ * 100:.2f}%\")\n",
        "print()\n",
        "print(\"Test set accuracy based on the best parameters\")\n",
        "print(f\"{test_accuracy_r * 100:.2f}%\")"
      ]
    },
    {
      "cell_type": "markdown",
      "metadata": {
        "id": "HoQp9UiGAq1F"
      },
      "source": [
        "#### 3) Polynomial Kernel\n",
        "- Best Parameters : 'C': 100, 'gamma': 0.1\n",
        "- Accuracy based on the best parameters : 44.30%"
      ]
    },
    {
      "cell_type": "code",
      "execution_count": null,
      "metadata": {
        "colab": {
          "base_uri": "https://localhost:8080/"
        },
        "id": "4BxeINvzAq1F",
        "outputId": "b440e052-a53c-4cb6-d7f8-6e4c6459b3f2"
      },
      "outputs": [
        {
          "name": "stdout",
          "output_type": "stream",
          "text": [
            "Fitting 3 folds for each of 16 candidates, totalling 48 fits\n",
            "Best Parameters\n",
            "{'C': 100, 'gamma': 0.1, 'kernel': 'poly'}\n",
            "\n",
            "Accuracy based on the best parameters\n",
            "44.30%\n",
            "\n",
            "Test set accuracy based on the best parameters\n",
            "43.89%\n"
          ]
        }
      ],
      "source": [
        "# 3. Polynomial Kernel\n",
        "param_grid_p = {\n",
        "    'kernel': ['poly'],\n",
        "    'C': [0.1, 1, 10, 100],\n",
        "    'gamma': [0.1, 0.01, 0.001, 0.0001]\n",
        "}\n",
        "\n",
        "grid_search_p = GridSearchCV(SVC(), param_grid_p, cv=3, verbose=2, n_jobs=-1)\n",
        "grid_search_p.fit(X_train, y_train)\n",
        "\n",
        "best_model_p = grid_search_p.best_estimator_\n",
        "y_pred_p = best_model_p.predict(X_test)\n",
        "test_accuracy_p = accuracy_score(y_test, y_pred_p)\n",
        "\n",
        "print(\"Best Parameters\")\n",
        "print(f\"{grid_search_p.best_params_}\")\n",
        "print()\n",
        "print(\"Accuracy based on the best parameters\")\n",
        "print(f\"{grid_search_p.best_score_ * 100:.2f}%\")\n",
        "print()\n",
        "print(\"Test set accuracy based on the best parameters\")\n",
        "print(f\"{test_accuracy_p * 100:.2f}%\")"
      ]
    },
    {
      "cell_type": "code",
      "execution_count": null,
      "metadata": {
        "colab": {
          "base_uri": "https://localhost:8080/"
        },
        "id": "wemf_zBoAq1G",
        "outputId": "7d4542f9-dd13-44b8-a258-a299b2678dc8"
      },
      "outputs": [
        {
          "name": "stdout",
          "output_type": "stream",
          "text": [
            "Accuracy of SVM using poly kernel\n",
            "43.89%, 47.84%\n"
          ]
        }
      ],
      "source": [
        "# Additional parameter combinations to consider\n",
        "\n",
        "m_po = SVC(kernel='poly', C=0.1, gamma=1)\n",
        "m_po.fit(X_train, y_train)\n",
        "y_po = m_po.predict(X_test)\n",
        "\n",
        "m_pt = SVC(kernel='poly', C=1, gamma=1)\n",
        "m_pt.fit(X_train, y_train)\n",
        "y_pt = m_pt.predict(X_test)\n",
        "\n",
        "accuracy_po = accuracy_score(y_test, y_po)\n",
        "accuracy_pt = accuracy_score(y_test, y_pt)\n",
        "\n",
        "print(\"Accuracy of SVM using poly kernel\")\n",
        "print(f\"{accuracy_po * 100:.2f}%, {accuracy_pt * 100:.2f}%\")"
      ]
    },
    {
      "cell_type": "markdown",
      "metadata": {
        "id": "e_2bmmJBAq1H"
      },
      "source": [
        "#### 4) Sigmoid Kernel\n",
        "- Best Parameters : 'C': 1000, 'gamma': 0.001\n",
        "- Accuracy based on the best parameters : 28.41%"
      ]
    },
    {
      "cell_type": "code",
      "execution_count": null,
      "metadata": {
        "colab": {
          "base_uri": "https://localhost:8080/"
        },
        "id": "kgDaqm1TAq1H",
        "outputId": "83de0660-f8ae-4daf-e4a6-d46d75120e63"
      },
      "outputs": [
        {
          "name": "stdout",
          "output_type": "stream",
          "text": [
            "Fitting 3 folds for each of 20 candidates, totalling 60 fits\n",
            "Best Parameters\n",
            "{'C': 1000, 'gamma': 0.001, 'kernel': 'sigmoid'}\n",
            "\n",
            "Accuracy based on the best parameters\n",
            "28.41%\n",
            "\n",
            "Test set accuracy based on the best parameters\n",
            "27.42%\n"
          ]
        }
      ],
      "source": [
        "# 4. Sigmoid Kernel\n",
        "param_grid_s = {\n",
        "    'kernel': ['sigmoid'],\n",
        "    'C': [0.1, 1, 10, 100, 1000],\n",
        "    'gamma': [1, 0.1, 0.001, 0.0001]\n",
        "}\n",
        "\n",
        "grid_search_s = GridSearchCV(SVC(), param_grid_s, cv=3, verbose=2, n_jobs=-1)\n",
        "grid_search_s.fit(X_train, y_train)\n",
        "\n",
        "best_model_s = grid_search_s.best_estimator_\n",
        "y_pred_s = best_model_s.predict(X_test)\n",
        "test_accuracy_s = accuracy_score(y_test, y_pred_s)\n",
        "\n",
        "print(\"Best Parameters\")\n",
        "print(f\"{grid_search_s.best_params_}\")\n",
        "print()\n",
        "print(\"Accuracy based on the best parameters\")\n",
        "print(f\"{grid_search_s.best_score_ * 100:.2f}%\")\n",
        "print()\n",
        "print(\"Test set accuracy based on the best parameters\")\n",
        "print(f\"{test_accuracy_s * 100:.2f}%\")"
      ]
    },
    {
      "cell_type": "code",
      "execution_count": null,
      "metadata": {
        "colab": {
          "base_uri": "https://localhost:8080/"
        },
        "id": "ZUsmHLtyAq1I",
        "outputId": "4c98a079-cd02-46da-8015-1276c19529f8"
      },
      "outputs": [
        {
          "name": "stdout",
          "output_type": "stream",
          "text": [
            "Accuracy of SVM using sigmoid kernel\n",
            "5.92%, 17.95%, 23.55%\n"
          ]
        }
      ],
      "source": [
        "# Additional parameter combinations to consider\n",
        "\n",
        "m_so = SVC(kernel='sigmoid', C=0.1, gamma=0.01)\n",
        "m_so.fit(X_train, y_train)\n",
        "y_so = m_so.predict(X_test)\n",
        "\n",
        "m_st = SVC(kernel='sigmoid', C=1, gamma=0.01)\n",
        "m_st.fit(X_train, y_train)\n",
        "y_st = m_st.predict(X_test)\n",
        "\n",
        "m_sh = SVC(kernel='sigmoid', C=10, gamma=0.01)\n",
        "m_sh.fit(X_train, y_train)\n",
        "y_sh = m_sh.predict(X_test)\n",
        "\n",
        "accuracy_so = accuracy_score(y_test, y_so)\n",
        "accuracy_st = accuracy_score(y_test, y_st)\n",
        "accuracy_sh = accuracy_score(y_test, y_sh)\n",
        "\n",
        "print(\"Accuracy of SVM using sigmoid kernel\")\n",
        "print(f\"{accuracy_so * 100:.2f}%, {accuracy_st * 100:.2f}%, {accuracy_sh * 100:.2f}%\")"
      ]
    },
    {
      "cell_type": "markdown",
      "metadata": {
        "id": "eiRbMVy_BSn-"
      },
      "source": [
        "### **Case 3 : Use Top 5 features**\n",
        "Best Case : RBF Kernel (C:1000, gamma: 1), Accuracy 40.87%"
      ]
    },
    {
      "cell_type": "code",
      "execution_count": null,
      "metadata": {
        "id": "yqMHaYa9BSoB"
      },
      "outputs": [],
      "source": [
        "# Case 3 : Use Top 5 features\n",
        "\n",
        "X = df_mon[df_mon.columns[:5]] # Use Top 5 features\n",
        "y = df_mon['label']\n",
        "\n",
        "X_train, X_test, y_train, y_test = train_test_split(X, y,test_size=0.2, random_state=1)\n",
        "\n",
        "# Scaling data\n",
        "scaler = StandardScaler()\n",
        "X_train = scaler.fit_transform(X_train)\n",
        "X_test = scaler.transform(X_test)"
      ]
    },
    {
      "cell_type": "markdown",
      "metadata": {
        "id": "WW7Fx2FyBSoD"
      },
      "source": [
        "#### 1) Linear Kernel\n",
        "- Best Parameters : 'C': 10, 'gamma': 1\n",
        "- Accuracy based on the best parameters : 19.93%"
      ]
    },
    {
      "cell_type": "code",
      "execution_count": null,
      "metadata": {
        "colab": {
          "base_uri": "https://localhost:8080/"
        },
        "id": "7M97rg94BSoF",
        "outputId": "f40275f7-31e1-497c-c95d-fadaeca1cf46"
      },
      "outputs": [
        {
          "name": "stdout",
          "output_type": "stream",
          "text": [
            "Fitting 3 folds for each of 15 candidates, totalling 45 fits\n",
            "Best Parameters\n",
            "{'C': 10, 'gamma': 1, 'kernel': 'linear'}\n",
            "\n",
            "Accuracy based on the best parameters\n",
            "19.93%\n",
            "\n",
            "Test set accuracy based on the best parameters\n",
            "18.58%\n"
          ]
        }
      ],
      "source": [
        "# 1. Linear Kernel\n",
        "# make parameter grid\n",
        "param_grid_l = {\n",
        "    'kernel': ['linear'],\n",
        "    'C': [0.1, 1, 10],\n",
        "    'gamma': [1, 0.1, 0.01, 0.001, 0.0001]\n",
        "}\n",
        "\n",
        "# grid search - find the best parameter\n",
        "grid_search_l = GridSearchCV(SVC(), param_grid_l, cv=3, verbose=2, n_jobs=-1)\n",
        "grid_search_l.fit(X_train, y_train)\n",
        "\n",
        "best_model_l = grid_search_l.best_estimator_\n",
        "y_pred_l = best_model_l.predict(X_test)\n",
        "test_accuracy_l = accuracy_score(y_test, y_pred_l)\n",
        "\n",
        "print(\"Best Parameters\")\n",
        "print(f\"{grid_search_l.best_params_}\")\n",
        "print()\n",
        "print(\"Accuracy based on the best parameters\")\n",
        "print(f\"{grid_search_l.best_score_ * 100:.2f}%\")\n",
        "print()\n",
        "print(\"Test set accuracy based on the best parameters\")\n",
        "print(f\"{test_accuracy_l * 100:.2f}%\")"
      ]
    },
    {
      "cell_type": "code",
      "execution_count": null,
      "metadata": {
        "id": "HthTxifsBSoH"
      },
      "outputs": [],
      "source": [
        "# Additional parameter combination to consider\n",
        "\n",
        "m_lo = SVC(kernel='linear', C=100, gamma=1)\n",
        "m_lo.fit(X_train, y_train)\n",
        "y_lo = m_lo.predict(X_test)\n",
        "\n",
        "m_lt = SVC(kernel='linear', C=100, gamma=0.1)\n",
        "m_lt.fit(X_train, y_train)\n",
        "y_lt = m_lt.predict(X_test)\n",
        "\n",
        "m_lh = SVC(kernel='linear', C=100, gamma=0.01)\n",
        "m_lh.fit(X_train, y_train)\n",
        "y_lh = m_lh.predict(X_test)\n",
        "\n",
        "accuracy_lo = accuracy_score(y_test, y_lo)\n",
        "accuracy_lt = accuracy_score(y_test, y_lt)\n",
        "accuracy_lh = accuracy_score(y_test, y_lh)\n",
        "\n",
        "print(\"Accuracy of SVM using linear kernel\")\n",
        "print(f\"{accuracy_lo * 100:.2f}%, {accuracy_lt * 100:.2f}%, {accuracy_lh * 100:.2f}%\")"
      ]
    },
    {
      "cell_type": "markdown",
      "metadata": {
        "id": "TKEjUfxmBSoJ"
      },
      "source": [
        "#### 2) RBF Kernel\n",
        "- Best Parameters : 'C': 1000, 'gamma': 1\n",
        "- Accuracy based on the best parameters : 40.87%"
      ]
    },
    {
      "cell_type": "code",
      "execution_count": null,
      "metadata": {
        "colab": {
          "base_uri": "https://localhost:8080/"
        },
        "id": "087OLo0vBSoK",
        "outputId": "4fd747a7-c7aa-4d05-eee3-6d9a6d48d5da"
      },
      "outputs": [
        {
          "name": "stdout",
          "output_type": "stream",
          "text": [
            "Fitting 3 folds for each of 25 candidates, totalling 75 fits\n",
            "Best Parameters\n",
            "{'C': 1000, 'gamma': 1, 'kernel': 'rbf'}\n",
            "\n",
            "Accuracy based on the best parameters\n",
            "40.87%\n",
            "\n",
            "Test set accuracy based on the best parameters\n",
            "39.97%\n"
          ]
        }
      ],
      "source": [
        "# 2. RBF Kernel\n",
        "param_grid_r = {\n",
        "    'kernel': ['rbf'],\n",
        "    'C': [0.1, 1, 10, 100, 1000],\n",
        "    'gamma': [1, 0.1, 0.01, 0.001, 0.0001]\n",
        "}\n",
        "\n",
        "grid_search_r = GridSearchCV(SVC(), param_grid_r, cv=3, verbose=2, n_jobs=-1)\n",
        "grid_search_r.fit(X_train, y_train)\n",
        "\n",
        "best_model_r = grid_search_r.best_estimator_\n",
        "y_pred_r = best_model_r.predict(X_test)\n",
        "test_accuracy_r = accuracy_score(y_test, y_pred_r)\n",
        "\n",
        "print(\"Best Parameters\")\n",
        "print(f\"{grid_search_r.best_params_}\")\n",
        "print()\n",
        "print(\"Accuracy based on the best parameters\")\n",
        "print(f\"{grid_search_r.best_score_ * 100:.2f}%\")\n",
        "print()\n",
        "print(\"Test set accuracy based on the best parameters\")\n",
        "print(f\"{test_accuracy_r * 100:.2f}%\")"
      ]
    },
    {
      "cell_type": "markdown",
      "metadata": {
        "id": "I8xqvOazBSoM"
      },
      "source": [
        "#### 3) Polynomial Kernel\n",
        "- Best Parameters : 'C': 100, 'gamma': 0.1\n",
        "- Accuracy based on the best parameters : 21.28%"
      ]
    },
    {
      "cell_type": "code",
      "execution_count": null,
      "metadata": {
        "colab": {
          "base_uri": "https://localhost:8080/"
        },
        "id": "615xDeYnBSoN",
        "outputId": "0c4ff760-8cc9-4db8-af55-b7983e80f6f5"
      },
      "outputs": [
        {
          "name": "stdout",
          "output_type": "stream",
          "text": [
            "Fitting 3 folds for each of 16 candidates, totalling 48 fits\n",
            "Best Parameters\n",
            "{'C': 100, 'gamma': 0.1, 'kernel': 'poly'}\n",
            "\n",
            "Accuracy based on the best parameters\n",
            "21.28%\n",
            "\n",
            "Test set accuracy based on the best parameters\n",
            "20.95%\n"
          ]
        }
      ],
      "source": [
        "# 3. Polynomial Kernel\n",
        "param_grid_p = {\n",
        "    'kernel': ['poly'],\n",
        "    'C': [0.1, 1, 10, 100],\n",
        "    'gamma': [0.1, 0.01, 0.001, 0.0001]\n",
        "}\n",
        "\n",
        "grid_search_p = GridSearchCV(SVC(), param_grid_p, cv=3, verbose=2, n_jobs=-1)\n",
        "grid_search_p.fit(X_train, y_train)\n",
        "\n",
        "best_model_p = grid_search_p.best_estimator_\n",
        "y_pred_p = best_model_p.predict(X_test)\n",
        "test_accuracy_p = accuracy_score(y_test, y_pred_p)\n",
        "\n",
        "print(\"Best Parameters\")\n",
        "print(f\"{grid_search_p.best_params_}\")\n",
        "print()\n",
        "print(\"Accuracy based on the best parameters\")\n",
        "print(f\"{grid_search_p.best_score_ * 100:.2f}%\")\n",
        "print()\n",
        "print(\"Test set accuracy based on the best parameters\")\n",
        "print(f\"{test_accuracy_p * 100:.2f}%\")"
      ]
    },
    {
      "cell_type": "code",
      "execution_count": null,
      "metadata": {
        "id": "2RzbOHnlBSoO"
      },
      "outputs": [],
      "source": [
        "# Additional parameter combinations to consider\n",
        "\n",
        "m_po = SVC(kernel='poly', C=0.1, gamma=1)\n",
        "m_po.fit(X_train, y_train)\n",
        "y_po = m_po.predict(X_test)\n",
        "\n",
        "m_pt = SVC(kernel='poly', C=1, gamma=1)\n",
        "m_pt.fit(X_train, y_train)\n",
        "y_pt = m_pt.predict(X_test)\n",
        "\n",
        "accuracy_po = accuracy_score(y_test, y_po)\n",
        "accuracy_pt = accuracy_score(y_test, y_pt)\n",
        "\n",
        "print(\"Accuracy of SVM using poly kernel\")\n",
        "print(f\"{accuracy_po * 100:.2f}%, {accuracy_pt * 100:.2f}%\")"
      ]
    },
    {
      "cell_type": "markdown",
      "metadata": {
        "id": "QQxtrNn6BSoP"
      },
      "source": [
        "#### 4) Sigmoid Kernel\n",
        "- Best Parameters : 'C': 1000, 'gamma': 0.001\n",
        "- Accuracy based on the best parameters : 17.93%"
      ]
    },
    {
      "cell_type": "code",
      "execution_count": null,
      "metadata": {
        "colab": {
          "base_uri": "https://localhost:8080/"
        },
        "id": "kmmJggpRBSoQ",
        "outputId": "b8f23035-e5df-4e46-a1bb-cad56ffe6390"
      },
      "outputs": [
        {
          "name": "stdout",
          "output_type": "stream",
          "text": [
            "Fitting 3 folds for each of 20 candidates, totalling 60 fits\n",
            "Best Parameters\n",
            "{'C': 1000, 'gamma': 0.001, 'kernel': 'sigmoid'}\n",
            "\n",
            "Accuracy based on the best parameters\n",
            "17.93%\n",
            "\n",
            "Test set accuracy based on the best parameters\n",
            "16.42%\n"
          ]
        }
      ],
      "source": [
        "# 4. Sigmoid Kernel\n",
        "param_grid_s = {\n",
        "    'kernel': ['sigmoid'],\n",
        "    'C': [0.1, 1, 10, 100, 1000],\n",
        "    'gamma': [1, 0.1, 0.001, 0.0001]\n",
        "}\n",
        "\n",
        "grid_search_s = GridSearchCV(SVC(), param_grid_s, cv=3, verbose=2, n_jobs=-1)\n",
        "grid_search_s.fit(X_train, y_train)\n",
        "\n",
        "best_model_s = grid_search_s.best_estimator_\n",
        "y_pred_s = best_model_s.predict(X_test)\n",
        "test_accuracy_s = accuracy_score(y_test, y_pred_s)\n",
        "\n",
        "print(\"Best Parameters\")\n",
        "print(f\"{grid_search_s.best_params_}\")\n",
        "print()\n",
        "print(\"Accuracy based on the best parameters\")\n",
        "print(f\"{grid_search_s.best_score_ * 100:.2f}%\")\n",
        "print()\n",
        "print(\"Test set accuracy based on the best parameters\")\n",
        "print(f\"{test_accuracy_s * 100:.2f}%\")"
      ]
    },
    {
      "cell_type": "code",
      "execution_count": null,
      "metadata": {
        "id": "gjnXexO_BSoR"
      },
      "outputs": [],
      "source": [
        "# Additional parameter combinations to consider\n",
        "\n",
        "m_so = SVC(kernel='sigmoid', C=0.1, gamma=0.01)\n",
        "m_so.fit(X_train, y_train)\n",
        "y_so = m_so.predict(X_test)\n",
        "\n",
        "m_st = SVC(kernel='sigmoid', C=1, gamma=0.01)\n",
        "m_st.fit(X_train, y_train)\n",
        "y_st = m_st.predict(X_test)\n",
        "\n",
        "m_sh = SVC(kernel='sigmoid', C=10, gamma=0.01)\n",
        "m_sh.fit(X_train, y_train)\n",
        "y_sh = m_sh.predict(X_test)\n",
        "\n",
        "accuracy_so = accuracy_score(y_test, y_so)\n",
        "accuracy_st = accuracy_score(y_test, y_st)\n",
        "accuracy_sh = accuracy_score(y_test, y_sh)\n",
        "\n",
        "print(\"Accuracy of SVM using sigmoid kernel\")\n",
        "print(f\"{accuracy_so * 100:.2f}%, {accuracy_st * 100:.2f}%, {accuracy_sh * 100:.2f}%\")"
      ]
    },
    {
      "cell_type": "markdown",
      "metadata": {
        "id": "c9Mp7S8Q40QP"
      },
      "source": [
        "## 5. Result : SVM"
      ]
    },
    {
      "cell_type": "markdown",
      "metadata": {
        "id": "KxFmlHM046es"
      },
      "source": [
        "Best Accuracy Score\n",
        "- Case 1 (Use all features) : 71.34%\n",
        "- Case 2 (Use Top 10 features) : 57.64%\n",
        "- Case 3 (Use Top 5 features) : 40.87%"
      ]
    }
  ],
  "metadata": {
    "colab": {
      "collapsed_sections": [
        "LEG4RjOSA1Ea",
        "b99egp8tHF4J",
        "FGoGsx5ZL077",
        "Eh05WeOOs5Z3",
        "dKJCTKg47Gio",
        "2WRfyI8x7tDW",
        "S75F7NC--ttv",
        "Hb5q18xe_rC_",
        "0-5oWxrfAq0-",
        "LWqw5fe3Aq1C",
        "hFUguNt_Aq1D",
        "HoQp9UiGAq1F",
        "e_2bmmJBAq1H",
        "eiRbMVy_BSn-",
        "WW7Fx2FyBSoD",
        "TKEjUfxmBSoJ",
        "I8xqvOazBSoM",
        "QQxtrNn6BSoP"
      ],
      "provenance": []
    },
    "kernelspec": {
      "display_name": "Python 3",
      "name": "python3"
    },
    "language_info": {
      "name": "python"
    }
  },
  "nbformat": 4,
  "nbformat_minor": 0
}