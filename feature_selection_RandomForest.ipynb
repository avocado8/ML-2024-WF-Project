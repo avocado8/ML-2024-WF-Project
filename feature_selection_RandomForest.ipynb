{
  "cells": [
    {
      "cell_type": "markdown",
      "metadata": {
        "id": "UdcHXGk3AbYO"
      },
      "source": [
        "# **Closed-world: Select Model**\n",
        "Preprocess the monitored data, extract features, and identify the model with the highest accuracy. Three candidate models were considered.\n",
        "In this notebook, the task is performed using the **'Random Forest'**, and the results are presented."
      ]
    },
    {
      "cell_type": "markdown",
      "metadata": {
        "id": "LEG4RjOSA1Ea"
      },
      "source": [
        "## 1. Data Preprocessing"
      ]
    },
    {
      "cell_type": "code",
      "execution_count": null,
      "metadata": {
        "colab": {
          "base_uri": "https://localhost:8080/"
        },
        "id": "R0aktyllBWG0",
        "outputId": "b2d81998-681b-4826-cf96-0481b3ece7fe"
      },
      "outputs": [
        {
          "name": "stdout",
          "output_type": "stream",
          "text": [
            "Loading datafile...\n",
            "Total samples: 19000\n"
          ]
        }
      ],
      "source": [
        "# Convert specific features of the monitored dataset 'mon_standart.pkl' into arrays.\n",
        "\n",
        "import pickle\n",
        "\n",
        "USE_SUBLABEL = False\n",
        "URL_PER_SITE = 10\n",
        "TOTAL_URLS   = 950\n",
        "\n",
        "# Load the pickle file\n",
        "print(\"Loading datafile...\")\n",
        "with open(\"/mon_standard.pkl\", 'rb') as fi: # Path to mon_standard.pkl in Colab\n",
        "    data = pickle.load(fi)\n",
        "\n",
        "X1 = [] # Array to store instances (timestamps) - 19,000 instances, e.g., [[0.0, 0.5, 3.4, ...], [0.0, 4.5, ...], [0.0, 1.5, ...], ... [... ,45.8]]\n",
        "X2 = [] # Array to store instances (direction*size) - size information\n",
        "y = [] # Array to store the site of each instance - 19,000 instances, e.g., [0, 0, 0, 0, 0, 0, ..., 94, 94, 94, 94, 94]\n",
        "\n",
        "# Differentiate instances and sites, and store them in the respective x and y arrays\n",
        "# x array (direction*timestamp), y array (site label)\n",
        "for i in range(TOTAL_URLS):\n",
        "    if USE_SUBLABEL:\n",
        "        label = i\n",
        "    else:\n",
        "        label = i // URL_PER_SITE # Calculate which site's URL the current URL being processed belongs to and set that value as the label. Thus, URLs fetched from the same site are labeled identically.\n",
        "    for sample in data[i]:\n",
        "        size_seq = []\n",
        "        time_seq = []\n",
        "        for c in sample:\n",
        "            dr = 1 if c > 0 else -1\n",
        "            time_seq.append(abs(c))\n",
        "            size_seq.append(dr * 512)\n",
        "        X1.append(time_seq)\n",
        "        X2.append(size_seq)\n",
        "        y.append(label)\n",
        "size = len(y)\n",
        "\n",
        "print(f'Total samples: {size}') # Output: 19000\n"
      ]
    },
    {
      "cell_type": "markdown",
      "metadata": {
        "id": "b99egp8tHF4J"
      },
      "source": [
        "## 2. Feature Extraction"
      ]
    },
    {
      "cell_type": "code",
      "execution_count": null,
      "metadata": {
        "id": "3V3BNToiCKjo"
      },
      "outputs": [],
      "source": [
        "# Feature extraction\n",
        "\n",
        "import pandas as pd\n",
        "import numpy as np\n",
        "\n",
        "# A function to calculate the number of incoming/outgoing packets for the first 30 packets in each row\n",
        "def count_in_out_first_30(X2):\n",
        "    n_in_first = [] # Number of incoming packets for the first 30 packets\n",
        "    n_out_first = [] # # Number of outgoing packets for the first 30 packets\n",
        "\n",
        "    for packets in X2:\n",
        "        # Calculate n_in_first and n_out_first for the first 30 packets\n",
        "        n_in_f = sum(1 for packet in packets[:30] if packet > 0)\n",
        "        n_out_f = sum(1 for packet in packets[:30] if packet < 0)\n",
        "\n",
        "        # Append each result to the respective lists\n",
        "        n_in_first.append(n_in_f)\n",
        "        n_out_first.append(n_out_f)\n",
        "\n",
        "    return n_in_first, n_out_first\n",
        "\n",
        "# A function to calculate basic features\n",
        "def compute_features(X2, X1):\n",
        "    n_pkt = []  # Total number of packets\n",
        "    n_in = []  # Number of incoming packets\n",
        "    n_out = []  # Number of outgoing packets\n",
        "    r_in = []  # Number of incoming packets as a fraction of the total number\n",
        "    r_out = []  # Number of outgoing packets as a fraction of the total number\n",
        "    n_pkt_persec = []  # Packets per second\n",
        "\n",
        "    for i in range(0, len(X2)):\n",
        "        cnt_in = 0\n",
        "        for j in range(0, len(X2[i])):\n",
        "            if X2[i][j] < 0:\n",
        "                cnt_in += 1\n",
        "        n_pkt.append(len(X2[i]))\n",
        "        n_in.append(cnt_in)\n",
        "        n_out.append(len(X2[i]) - cnt_in)\n",
        "        r_in.append(cnt_in / len(X2[i]) if len(X2[i]) > 0 else 0)\n",
        "        r_out.append(1 - (cnt_in / len(X2[i])) if len(X2[i]) > 0 else 0)\n",
        "        t = X1[i][-1] - X1[i][0] if len(X1[i]) > 1 else 1\n",
        "        n_pkt_persec.append(n_pkt[i] / t if t > 0 else 0)\n",
        "\n",
        "    n_in_first, n_out_first = count_in_out_first_30(X2)\n",
        "\n",
        "    # Create a dataframe\n",
        "    df_mon = pd.DataFrame({\n",
        "        'n_pkt': n_pkt,\n",
        "        'n_in': n_in,\n",
        "        'n_out': n_out,\n",
        "        'r_in': r_in,\n",
        "        'r_out': r_out,\n",
        "        'n_in_first': n_in_first,\n",
        "        'n_out_first': n_out_first,\n",
        "        'n_pkt_persec': n_pkt_persec\n",
        "    })\n",
        "\n",
        "    return df_mon\n",
        "\n",
        "# A function to calculate the standard deviation of outgoing packets\n",
        "def outgoing_packet_std(X2):\n",
        "    std_list = []\n",
        "\n",
        "    for packets in X2:\n",
        "        outgoing_indices = [i for i, packet in enumerate(packets) if packet < 0]\n",
        "\n",
        "        if len(outgoing_indices) == 0:\n",
        "            std_list.append(0)\n",
        "        else:\n",
        "            std_list.append(np.std(outgoing_indices))\n",
        "\n",
        "    return std_list\n",
        "\n",
        "# A function to calculate the number of packets in the last 5 seconds\n",
        "def count_packets_last_5_seconds(X1):\n",
        "    n_last_5s = []\n",
        "    for timestamps in X1:\n",
        "        if not timestamps:\n",
        "            n_last_5s.append(0)\n",
        "        else:\n",
        "            end_time = timestamps[-1]\n",
        "            start_time = end_time - 5\n",
        "            n_last_5s.append(sum(1 for t in timestamps if t > start_time))\n",
        "    return n_last_5s\n",
        "\n",
        "# A function to calculate newly added features\n",
        "def add_new_features(df_mon, X2, X1):\n",
        "    sum_alt_concentration = [sum(abs(packet) for packet in packets) for packets in X2]\n",
        "    df_mon['sum_alt_concentration'] = sum_alt_concentration # Sum of absolute packet size\n",
        "\n",
        "    alt_pkt_persec = [\n",
        "        sum(abs(packet) for packet in packets) / (X1[i][-1] - X1[i][0]) if len(packets) > 1 and X1[i][-1] > X1[i][0] else 0 for i, packets in enumerate(X2)\n",
        "    ]\n",
        "    df_mon['alt_pkt_persec'] = alt_pkt_persec # Average absolute packet size per second\n",
        "\n",
        "    df_mon['std_ordering'] = [pd.Series(packets).std() for packets in X2] # Standard Deviation of Packet Sizes\n",
        "\n",
        "    outgoing_std = outgoing_packet_std(X2)\n",
        "    df_mon['std_dev of outgoing'] = outgoing_std # Standard Derivation of Outgoing Packets\n",
        "\n",
        "    cumulative_pkt_size = [sum(map(abs, packets)) for packets in X2]\n",
        "    df_mon['cumulative_pkt_size'] = cumulative_pkt_size # Cumulative packet Size\n",
        "\n",
        "    avg_burst_interval = []\n",
        "    for i in range(len(X1)):\n",
        "        burst_intervals = [X1[i][j+1] - X1[i][j] for j in range(len(X1[i])-1) if abs(X2[i][j]) > 0]\n",
        "        avg_burst_interval.append(sum(burst_intervals) / len(burst_intervals) if burst_intervals else 0)\n",
        "    df_mon['avg_burst_interval'] = avg_burst_interval # Average of Burst Interval\n",
        "\n",
        "    std_time_interval = [np.std([X1[i][k+1] - X1[i][k] for k in range(len(X1[i])-1)]) if len(X1[i]) > 1 else 0 for i in range(len(X1))]\n",
        "    df_mon['std_time_interval'] = std_time_interval # Standard Deviation of Time Intervals\n",
        "\n",
        "    sum_alternate_pkt_per_sec = []\n",
        "    for packets in X2:\n",
        "        count = 0\n",
        "        for i in range(1, len(packets)):\n",
        "            if (packets[i] > 0 and packets[i-1] < 0) or (packets[i] < 0 and packets[i-1] > 0):\n",
        "                count += 1\n",
        "        sum_alternate_pkt_per_sec.append(count)\n",
        "\n",
        "    df_mon['sum_alternate_pkt_per_sec'] = sum_alternate_pkt_per_sec # Number of packets changing direction per second in each sample\n",
        "\n",
        "    df_mon['#of_packets_in_last_5_seconds'] = count_packets_last_5_seconds(X1) # Number of packets during the last 5 seconds\n",
        "\n",
        "    return df_mon"
      ]
    },
    {
      "cell_type": "code",
      "execution_count": null,
      "metadata": {
        "id": "R8u1iaFMGmex"
      },
      "outputs": [],
      "source": [
        "# Basic Features Calculation\n",
        "df_mon = compute_features(X2, X1)\n",
        "# Additional Features Calculation\n",
        "df_mon = add_new_features(df_mon, X2, X1)\n",
        "\n",
        "# Additional Feature: Calculating Pearson Correlation Coefficient Between Packet Size and Timestamp\n",
        "df_mon['size_time_corr'] = [\n",
        "    pd.Series(packets).corr(pd.Series(times)) if len(packets) > 1 else np.nan\n",
        "    for packets, times in zip(X2, X1)\n",
        "]\n",
        "## Analyzing the correlation between packet size and timestamp in network data can help identify patterns.\n",
        "## For example, if larger packet sizes frequently occur at specific times, there may be a positive correlation.\n",
        "\n",
        "# Add Label\n",
        "df_mon['label'] = y"
      ]
    },
    {
      "cell_type": "code",
      "execution_count": null,
      "metadata": {
        "colab": {
          "base_uri": "https://localhost:8080/"
        },
        "id": "at8nG-9JHPIX",
        "outputId": "58e767c9-9bac-4faf-deb8-fabff1f69fe8"
      },
      "outputs": [
        {
          "data": {
            "text/html": [
              "<div>\n",
              "<style scoped>\n",
              "    .dataframe tbody tr th:only-of-type {\n",
              "        vertical-align: middle;\n",
              "    }\n",
              "\n",
              "    .dataframe tbody tr th {\n",
              "        vertical-align: top;\n",
              "    }\n",
              "\n",
              "    .dataframe thead th {\n",
              "        text-align: right;\n",
              "    }\n",
              "</style>\n",
              "<table border=\"1\" class=\"dataframe\">\n",
              "  <thead>\n",
              "    <tr style=\"text-align: right;\">\n",
              "      <th></th>\n",
              "      <th>n_pkt</th>\n",
              "      <th>n_in</th>\n",
              "      <th>n_out</th>\n",
              "      <th>r_in</th>\n",
              "      <th>r_out</th>\n",
              "      <th>n_in_first</th>\n",
              "      <th>n_out_first</th>\n",
              "      <th>n_pkt_persec</th>\n",
              "      <th>sum_alt_concentration</th>\n",
              "      <th>alt_pkt_persec</th>\n",
              "      <th>std_ordering</th>\n",
              "      <th>std_dev of outgoing</th>\n",
              "      <th>cumulative_pkt_size</th>\n",
              "      <th>avg_burst_interval</th>\n",
              "      <th>std_time_interval</th>\n",
              "      <th>sum_alternate_pkt_per_sec</th>\n",
              "      <th>#of_packets_in_last_5_seconds</th>\n",
              "      <th>size_time_corr</th>\n",
              "      <th>label</th>\n",
              "    </tr>\n",
              "  </thead>\n",
              "  <tbody>\n",
              "    <tr>\n",
              "      <th>0</th>\n",
              "      <td>1421</td>\n",
              "      <td>1300</td>\n",
              "      <td>121</td>\n",
              "      <td>0.914849</td>\n",
              "      <td>0.085151</td>\n",
              "      <td>9</td>\n",
              "      <td>21</td>\n",
              "      <td>140.138067</td>\n",
              "      <td>727552</td>\n",
              "      <td>71750.690335</td>\n",
              "      <td>285.905893</td>\n",
              "      <td>398.486335</td>\n",
              "      <td>727552</td>\n",
              "      <td>0.007141</td>\n",
              "      <td>0.041168</td>\n",
              "      <td>155</td>\n",
              "      <td>179</td>\n",
              "      <td>0.068924</td>\n",
              "      <td>0</td>\n",
              "    </tr>\n",
              "    <tr>\n",
              "      <th>1</th>\n",
              "      <td>518</td>\n",
              "      <td>438</td>\n",
              "      <td>80</td>\n",
              "      <td>0.845560</td>\n",
              "      <td>0.154440</td>\n",
              "      <td>8</td>\n",
              "      <td>22</td>\n",
              "      <td>50.984252</td>\n",
              "      <td>265216</td>\n",
              "      <td>26103.937008</td>\n",
              "      <td>370.400747</td>\n",
              "      <td>150.591146</td>\n",
              "      <td>265216</td>\n",
              "      <td>0.019652</td>\n",
              "      <td>0.163930</td>\n",
              "      <td>93</td>\n",
              "      <td>236</td>\n",
              "      <td>-0.104867</td>\n",
              "      <td>0</td>\n",
              "    </tr>\n",
              "    <tr>\n",
              "      <th>2</th>\n",
              "      <td>1358</td>\n",
              "      <td>1240</td>\n",
              "      <td>118</td>\n",
              "      <td>0.913108</td>\n",
              "      <td>0.086892</td>\n",
              "      <td>7</td>\n",
              "      <td>23</td>\n",
              "      <td>122.232223</td>\n",
              "      <td>695296</td>\n",
              "      <td>62582.898290</td>\n",
              "      <td>288.543964</td>\n",
              "      <td>381.878642</td>\n",
              "      <td>695296</td>\n",
              "      <td>0.008187</td>\n",
              "      <td>0.066661</td>\n",
              "      <td>151</td>\n",
              "      <td>303</td>\n",
              "      <td>0.081140</td>\n",
              "      <td>0</td>\n",
              "    </tr>\n",
              "    <tr>\n",
              "      <th>3</th>\n",
              "      <td>1446</td>\n",
              "      <td>1324</td>\n",
              "      <td>122</td>\n",
              "      <td>0.915629</td>\n",
              "      <td>0.084371</td>\n",
              "      <td>9</td>\n",
              "      <td>21</td>\n",
              "      <td>108.233533</td>\n",
              "      <td>740352</td>\n",
              "      <td>55415.568862</td>\n",
              "      <td>284.712015</td>\n",
              "      <td>406.205288</td>\n",
              "      <td>740352</td>\n",
              "      <td>0.009246</td>\n",
              "      <td>0.047809</td>\n",
              "      <td>159</td>\n",
              "      <td>161</td>\n",
              "      <td>0.090254</td>\n",
              "      <td>0</td>\n",
              "    </tr>\n",
              "    <tr>\n",
              "      <th>4</th>\n",
              "      <td>1406</td>\n",
              "      <td>1291</td>\n",
              "      <td>115</td>\n",
              "      <td>0.918208</td>\n",
              "      <td>0.081792</td>\n",
              "      <td>8</td>\n",
              "      <td>22</td>\n",
              "      <td>132.142857</td>\n",
              "      <td>719872</td>\n",
              "      <td>67657.142857</td>\n",
              "      <td>280.725055</td>\n",
              "      <td>395.028889</td>\n",
              "      <td>719872</td>\n",
              "      <td>0.007573</td>\n",
              "      <td>0.038760</td>\n",
              "      <td>157</td>\n",
              "      <td>167</td>\n",
              "      <td>0.090400</td>\n",
              "      <td>0</td>\n",
              "    </tr>\n",
              "  </tbody>\n",
              "</table>\n",
              "</div>"
            ],
            "text/plain": [
              "   n_pkt  n_in  n_out      r_in     r_out  n_in_first  n_out_first  \\\n",
              "0   1421  1300    121  0.914849  0.085151           9           21   \n",
              "1    518   438     80  0.845560  0.154440           8           22   \n",
              "2   1358  1240    118  0.913108  0.086892           7           23   \n",
              "3   1446  1324    122  0.915629  0.084371           9           21   \n",
              "4   1406  1291    115  0.918208  0.081792           8           22   \n",
              "\n",
              "   n_pkt_persec  sum_alt_concentration  alt_pkt_persec  std_ordering  \\\n",
              "0    140.138067                 727552    71750.690335    285.905893   \n",
              "1     50.984252                 265216    26103.937008    370.400747   \n",
              "2    122.232223                 695296    62582.898290    288.543964   \n",
              "3    108.233533                 740352    55415.568862    284.712015   \n",
              "4    132.142857                 719872    67657.142857    280.725055   \n",
              "\n",
              "   std_dev of outgoing  cumulative_pkt_size  avg_burst_interval  \\\n",
              "0           398.486335               727552            0.007141   \n",
              "1           150.591146               265216            0.019652   \n",
              "2           381.878642               695296            0.008187   \n",
              "3           406.205288               740352            0.009246   \n",
              "4           395.028889               719872            0.007573   \n",
              "\n",
              "   std_time_interval  sum_alternate_pkt_per_sec  \\\n",
              "0           0.041168                        155   \n",
              "1           0.163930                         93   \n",
              "2           0.066661                        151   \n",
              "3           0.047809                        159   \n",
              "4           0.038760                        157   \n",
              "\n",
              "   #of_packets_in_last_5_seconds  size_time_corr  label  \n",
              "0                            179        0.068924      0  \n",
              "1                            236       -0.104867      0  \n",
              "2                            303        0.081140      0  \n",
              "3                            161        0.090254      0  \n",
              "4                            167        0.090400      0  "
            ]
          },
          "execution_count": 4,
          "metadata": {},
          "output_type": "execute_result"
        }
      ],
      "source": [
        "# Check the DataFrame created with the features\n",
        "df_mon.head()"
      ]
    },
    {
      "cell_type": "code",
      "execution_count": null,
      "metadata": {
        "colab": {
          "base_uri": "https://localhost:8080/"
        },
        "id": "8hvIebcnI-cc",
        "outputId": "93c10f1d-42e3-4bbe-e1ec-3bc259f2a27d"
      },
      "outputs": [
        {
          "data": {
            "text/html": [
              "<div>\n",
              "<style scoped>\n",
              "    .dataframe tbody tr th:only-of-type {\n",
              "        vertical-align: middle;\n",
              "    }\n",
              "\n",
              "    .dataframe tbody tr th {\n",
              "        vertical-align: top;\n",
              "    }\n",
              "\n",
              "    .dataframe thead th {\n",
              "        text-align: right;\n",
              "    }\n",
              "</style>\n",
              "<table border=\"1\" class=\"dataframe\">\n",
              "  <thead>\n",
              "    <tr style=\"text-align: right;\">\n",
              "      <th></th>\n",
              "      <th>n_pkt</th>\n",
              "      <th>n_in</th>\n",
              "      <th>n_out</th>\n",
              "      <th>r_in</th>\n",
              "      <th>r_out</th>\n",
              "      <th>n_in_first</th>\n",
              "      <th>n_out_first</th>\n",
              "      <th>n_pkt_persec</th>\n",
              "      <th>sum_alt_concentration</th>\n",
              "      <th>alt_pkt_persec</th>\n",
              "      <th>std_ordering</th>\n",
              "      <th>std_dev of outgoing</th>\n",
              "      <th>cumulative_pkt_size</th>\n",
              "      <th>avg_burst_interval</th>\n",
              "      <th>std_time_interval</th>\n",
              "      <th>sum_alternate_pkt_per_sec</th>\n",
              "      <th>#of_packets_in_last_5_seconds</th>\n",
              "      <th>size_time_corr</th>\n",
              "      <th>label</th>\n",
              "    </tr>\n",
              "  </thead>\n",
              "  <tbody>\n",
              "    <tr>\n",
              "      <th>18995</th>\n",
              "      <td>9434</td>\n",
              "      <td>8815</td>\n",
              "      <td>619</td>\n",
              "      <td>0.934386</td>\n",
              "      <td>0.065614</td>\n",
              "      <td>7</td>\n",
              "      <td>23</td>\n",
              "      <td>214.848554</td>\n",
              "      <td>4830208</td>\n",
              "      <td>110002.459576</td>\n",
              "      <td>253.561660</td>\n",
              "      <td>2698.463332</td>\n",
              "      <td>4830208</td>\n",
              "      <td>0.004655</td>\n",
              "      <td>0.143962</td>\n",
              "      <td>745</td>\n",
              "      <td>4</td>\n",
              "      <td>0.052816</td>\n",
              "      <td>94</td>\n",
              "    </tr>\n",
              "    <tr>\n",
              "      <th>18996</th>\n",
              "      <td>9956</td>\n",
              "      <td>9404</td>\n",
              "      <td>552</td>\n",
              "      <td>0.944556</td>\n",
              "      <td>0.055444</td>\n",
              "      <td>7</td>\n",
              "      <td>23</td>\n",
              "      <td>638.205128</td>\n",
              "      <td>5097472</td>\n",
              "      <td>326761.025641</td>\n",
              "      <td>234.348798</td>\n",
              "      <td>2863.806259</td>\n",
              "      <td>5097472</td>\n",
              "      <td>0.001567</td>\n",
              "      <td>0.019465</td>\n",
              "      <td>722</td>\n",
              "      <td>1740</td>\n",
              "      <td>-0.025223</td>\n",
              "      <td>94</td>\n",
              "    </tr>\n",
              "    <tr>\n",
              "      <th>18997</th>\n",
              "      <td>9952</td>\n",
              "      <td>9373</td>\n",
              "      <td>579</td>\n",
              "      <td>0.941821</td>\n",
              "      <td>0.058179</td>\n",
              "      <td>8</td>\n",
              "      <td>22</td>\n",
              "      <td>666.577361</td>\n",
              "      <td>5095424</td>\n",
              "      <td>341287.608841</td>\n",
              "      <td>239.712124</td>\n",
              "      <td>2857.611288</td>\n",
              "      <td>5095424</td>\n",
              "      <td>0.001500</td>\n",
              "      <td>0.016411</td>\n",
              "      <td>741</td>\n",
              "      <td>1997</td>\n",
              "      <td>-0.007395</td>\n",
              "      <td>94</td>\n",
              "    </tr>\n",
              "    <tr>\n",
              "      <th>18998</th>\n",
              "      <td>9926</td>\n",
              "      <td>9236</td>\n",
              "      <td>690</td>\n",
              "      <td>0.930486</td>\n",
              "      <td>0.069514</td>\n",
              "      <td>7</td>\n",
              "      <td>23</td>\n",
              "      <td>498.543446</td>\n",
              "      <td>5082112</td>\n",
              "      <td>255254.244098</td>\n",
              "      <td>260.443829</td>\n",
              "      <td>2844.328152</td>\n",
              "      <td>5082112</td>\n",
              "      <td>0.002006</td>\n",
              "      <td>0.033281</td>\n",
              "      <td>812</td>\n",
              "      <td>3962</td>\n",
              "      <td>0.028430</td>\n",
              "      <td>94</td>\n",
              "    </tr>\n",
              "    <tr>\n",
              "      <th>18999</th>\n",
              "      <td>9925</td>\n",
              "      <td>9168</td>\n",
              "      <td>757</td>\n",
              "      <td>0.923728</td>\n",
              "      <td>0.076272</td>\n",
              "      <td>7</td>\n",
              "      <td>23</td>\n",
              "      <td>721.293605</td>\n",
              "      <td>5081600</td>\n",
              "      <td>369302.325581</td>\n",
              "      <td>271.816968</td>\n",
              "      <td>2825.280155</td>\n",
              "      <td>5081600</td>\n",
              "      <td>0.001387</td>\n",
              "      <td>0.011074</td>\n",
              "      <td>810</td>\n",
              "      <td>2814</td>\n",
              "      <td>0.067157</td>\n",
              "      <td>94</td>\n",
              "    </tr>\n",
              "  </tbody>\n",
              "</table>\n",
              "</div>"
            ],
            "text/plain": [
              "       n_pkt  n_in  n_out      r_in     r_out  n_in_first  n_out_first  \\\n",
              "18995   9434  8815    619  0.934386  0.065614           7           23   \n",
              "18996   9956  9404    552  0.944556  0.055444           7           23   \n",
              "18997   9952  9373    579  0.941821  0.058179           8           22   \n",
              "18998   9926  9236    690  0.930486  0.069514           7           23   \n",
              "18999   9925  9168    757  0.923728  0.076272           7           23   \n",
              "\n",
              "       n_pkt_persec  sum_alt_concentration  alt_pkt_persec  std_ordering  \\\n",
              "18995    214.848554                4830208   110002.459576    253.561660   \n",
              "18996    638.205128                5097472   326761.025641    234.348798   \n",
              "18997    666.577361                5095424   341287.608841    239.712124   \n",
              "18998    498.543446                5082112   255254.244098    260.443829   \n",
              "18999    721.293605                5081600   369302.325581    271.816968   \n",
              "\n",
              "       std_dev of outgoing  cumulative_pkt_size  avg_burst_interval  \\\n",
              "18995          2698.463332              4830208            0.004655   \n",
              "18996          2863.806259              5097472            0.001567   \n",
              "18997          2857.611288              5095424            0.001500   \n",
              "18998          2844.328152              5082112            0.002006   \n",
              "18999          2825.280155              5081600            0.001387   \n",
              "\n",
              "       std_time_interval  sum_alternate_pkt_per_sec  \\\n",
              "18995           0.143962                        745   \n",
              "18996           0.019465                        722   \n",
              "18997           0.016411                        741   \n",
              "18998           0.033281                        812   \n",
              "18999           0.011074                        810   \n",
              "\n",
              "       #of_packets_in_last_5_seconds  size_time_corr  label  \n",
              "18995                              4        0.052816     94  \n",
              "18996                           1740       -0.025223     94  \n",
              "18997                           1997       -0.007395     94  \n",
              "18998                           3962        0.028430     94  \n",
              "18999                           2814        0.067157     94  "
            ]
          },
          "execution_count": 5,
          "metadata": {},
          "output_type": "execute_result"
        }
      ],
      "source": [
        "df_mon.tail()"
      ]
    },
    {
      "cell_type": "markdown",
      "metadata": {
        "id": "TEO_v3CTHzKl"
      },
      "source": [
        "Final Extracted Feature List (total: 18)\n",
        "\n",
        "- n_pkt: Total number of packets\n",
        "- n_in: Number of incoming packets\n",
        "- n_out: Number of outgoing packets\n",
        "- r_in: Number of incoming packets as a fraction of the total number\n",
        "- r_out: Number of outgoing packets as a fraction of the total number\n",
        "- n_in_first: Number of incoming packets for the first 30 packets\n",
        "- n_out_first: Number of outgoig packets for the first 30 packets\n",
        "- n_pkt_persec: Number of packets per second\n",
        "- sum_alt_concentration:Sum of absolute packet sizes\n",
        "- alt_pkt_persec: Average absolute packet size per second\n",
        "- std_ordering: Standard Deviation of Packet Sizes\n",
        "- std_dev of outgoing: Standard Derivation of Outgoing Packets\n",
        "- cumulative_pkt_size: Cumulative Packet Size\n",
        "- avg_burst_interval: Average of Burst Interval\n",
        "- std_time_interval: Standard Deviation of Time Intervals\n",
        "- sum_alternate_pkt_per_sec: Number of packets changing direction per second in each sample\n",
        "- #of_packets_in_last_5_seconds: Number of packets during the last 5 seconds\n",
        "- size_time_corr: Pearson Correlation Coefficient Between Packet Size and Timestamp"
      ]
    },
    {
      "cell_type": "markdown",
      "metadata": {
        "id": "MgY-FQ57KUya"
      },
      "source": [
        "## 3. Feature Importance Extraction"
      ]
    },
    {
      "cell_type": "code",
      "execution_count": null,
      "metadata": {
        "colab": {
          "base_uri": "https://localhost:8080/"
        },
        "id": "drbz_R7QKeER",
        "outputId": "0a2212ca-c622-483f-82e6-0ac8b9de28d0"
      },
      "outputs": [
        {
          "name": "stdout",
          "output_type": "stream",
          "text": [
            "[0.35105263 0.49263158 0.46394737 0.46578947 0.46342105]\n",
            "0.4473684210526316\n",
            "[ 3  1 10 11  2]\n",
            "['r_in', 'n_in', 'std_ordering', 'std_dev of outgoing', 'n_out']\n"
          ]
        }
      ],
      "source": [
        "# Extract feature importance using feature_importances_\n",
        "\n",
        "from sklearn.ensemble import RandomForestClassifier\n",
        "from sklearn.model_selection import train_test_split\n",
        "from sklearn.model_selection import cross_val_score\n",
        "\n",
        "X = df_mon[df_mon.columns[:-1]]\n",
        "y = df_mon['label']\n",
        "\n",
        "X_train, X_test, y_train, y_test = train_test_split(X, y,test_size=0.2, random_state=2)\n",
        "\n",
        "clf = RandomForestClassifier(n_estimators=20, criterion=\"entropy\", max_depth=100, min_samples_split=2, max_features=\"sqrt\", random_state=2)\n",
        "clf.fit(X_train, y_train)\n",
        "y_pred = clf.predict(X_test)\n",
        "\n",
        "scores = cross_val_score(clf, X, y, cv=5)\n",
        "print(scores)\n",
        "print(sum(scores)/len(scores))\n",
        "# feature importance is computed using the gini impurity (total decrease in node impurity averaged over all trees in the ensemble)\n",
        "imp_score=clf.feature_importances_\n",
        "\n",
        "# pick top 5 features\n",
        "# np.argsort returns \"indices\" in ascending order\n",
        "top_indices=np.argsort(imp_score)[::-1][:5]\n",
        "print(top_indices)\n",
        "top_feature_names = [df_mon.columns[int(x)] for x in top_indices]\n",
        "print(top_feature_names)"
      ]
    },
    {
      "cell_type": "code",
      "execution_count": null,
      "metadata": {
        "colab": {
          "base_uri": "https://localhost:8080/",
          "height": 607
        },
        "id": "sMedxoebLKDL",
        "outputId": "2ba77ec9-4295-4caa-a9a4-7faf37b438f6"
      },
      "outputs": [
        {
          "data": {
            "image/png": "[encoded data removed]",
            "text/plain": [
              "<Figure size 1000x600 with 1 Axes>"
            ]
          },
          "metadata": {},
          "output_type": "display_data"
        }
      ],
      "source": [
        "# Visualization\n",
        "\n",
        "import seaborn as sns\n",
        "import matplotlib.pyplot as plt\n",
        "\n",
        "feature_imp = pd.Series(clf.feature_importances_, index=df_mon.columns[:-1]).sort_values(ascending=False)\n",
        "\n",
        "plt.figure(figsize=(10,6))\n",
        "sns.barplot(x=feature_imp, y=feature_imp.index)\n",
        "# Add labels to your graph\n",
        "plt.xlabel('Feature Importance Score')\n",
        "plt.ylabel('Features')\n",
        "plt.title(\"Visualizing Important Features\")\n",
        "plt.tight_layout()"
      ]
    },
    {
      "cell_type": "markdown",
      "metadata": {
        "id": "FGoGsx5ZL077"
      },
      "source": [
        "## 4. Compute Accuray : Random Forest"
      ]
    },
    {
      "cell_type": "code",
      "execution_count": null,
      "metadata": {
        "id": "Wn3urV136rli"
      },
      "outputs": [],
      "source": [
        "from sklearn.ensemble import RandomForestClassifier\n",
        "from sklearn.model_selection import train_test_split\n",
        "\n",
        "# Training RandomForest Classifier Model\n",
        "def train_model(X_train, y_train, X_test, y_test):\n",
        "    clf = RandomForestClassifier(\n",
        "        n_estimators=1000, criterion=\"entropy\", max_depth=100,\n",
        "        min_samples_split=2, max_features=\"sqrt\", random_state=2\n",
        "    )\n",
        "    clf.fit(X_train, y_train)\n",
        "    y_pred = clf.predict(X_test)\n",
        "    return clf, y_pred"
      ]
    },
    {
      "cell_type": "code",
      "execution_count": null,
      "metadata": {
        "id": "exyClBfzEGC4"
      },
      "outputs": [],
      "source": [
        "# Visualization - Correctly predicted data among all predictions\n",
        "\n",
        "import matplotlib.pyplot as plt\n",
        "import numpy as np\n",
        "from collections import Counter\n",
        "\n",
        "def plot_class_predictions(y_test, y_pred):\n",
        "    # Calculate the number of test data points for each class\n",
        "    test_counts = Counter(y_test)\n",
        "\n",
        "    # Calculate the number of correctly predicted data points for each class\n",
        "    correct_predictions = (y_test == y_pred)\n",
        "    correct_counts = Counter(y_test[correct_predictions])\n",
        "\n",
        "    # Range of 95 classes (index = 0 to 94)\n",
        "    num_classes = 95\n",
        "    classes = np.arange(num_classes)\n",
        "\n",
        "    # The number of test data points for each class is represented as a bar graph\n",
        "    plt.figure(figsize=(12, 6))\n",
        "    plt.bar(classes, [test_counts[i] for i in classes], color='green', label='Test Counts')\n",
        "\n",
        "    # The number of correctly predicted data points is indicated by yellow dots\n",
        "    plt.scatter(classes, [correct_counts[i] if i in correct_counts else 0 for i in classes], color='yellow', label='Correct Predictions', s=20)\n",
        "    plt.xticks(np.arange(0, num_classes, 10))\n",
        "\n",
        "    plt.xlabel('Classes')\n",
        "    plt.ylabel('Count')\n",
        "    plt.title('Counts and Correct Predictions per Class - Random Forest')\n",
        "    plt.legend()\n",
        "    plt.show()"
      ]
    },
    {
      "cell_type": "markdown",
      "metadata": {
        "id": "Eh05WeOOs5Z3"
      },
      "source": [
        "### **Case 1 : Use All features**"
      ]
    },
    {
      "cell_type": "code",
      "execution_count": null,
      "metadata": {
        "id": "ZleGSaKgsrHm"
      },
      "outputs": [],
      "source": [
        "# Case 1 : Use all features\n",
        "\n",
        "X = df_mon[df_mon.columns[:-1]] # Use all features\n",
        "y = df_mon['label']\n",
        "\n",
        "X_train, X_test, y_train, y_test = train_test_split(X, y, test_size=0.2, random_state=2)\n",
        "clf, y_pred = train_model(X_train, y_train, X_test, y_test)"
      ]
    },
    {
      "cell_type": "code",
      "execution_count": null,
      "metadata": {
        "id": "Rwl13yfiDTfL",
        "outputId": "7da853f9-2bf2-47b0-9252-939560580caf"
      },
      "outputs": [
        {
          "name": "stdout",
          "output_type": "stream",
          "text": [
            "Accuracy on test dataset: 0.8118421052631579\n"
          ]
        },
        {
          "data": {
            "text/plain": [
              "array([[33,  0,  0, ...,  0,  0,  0],\n",
              "       [ 0, 28,  0, ...,  0,  0,  0],\n",
              "       [ 0,  0, 37, ...,  0,  0,  0],\n",
              "       ...,\n",
              "       [ 0,  0,  0, ..., 31,  0,  3],\n",
              "       [ 0,  0,  0, ...,  0, 43,  0],\n",
              "       [ 0,  0,  0, ...,  0,  0, 34]], dtype=int64)"
            ]
          },
          "execution_count": 11,
          "metadata": {},
          "output_type": "execute_result"
        }
      ],
      "source": [
        "# Compute accuracy & print confusion matrix\n",
        "\n",
        "from sklearn.metrics import accuracy_score\n",
        "from sklearn.metrics import confusion_matrix\n",
        "\n",
        "accuracy = accuracy_score(y_test, y_pred)\n",
        "conf_matrix = confusion_matrix(y_test, y_pred)\n",
        "\n",
        "print(\"Accuracy on test dataset: {}\".format(accuracy_score(y_test, y_pred)))\n",
        "confusion_matrix(y_test, y_pred)"
      ]
    },
    {
      "cell_type": "code",
      "execution_count": null,
      "metadata": {
        "id": "62cMoRYHD3fy",
        "outputId": "6ea99b9f-df08-412a-ed48-336847abdaab"
      },
      "outputs": [
        {
          "name": "stdout",
          "output_type": "stream",
          "text": [
            "Plotting for all features\n"
          ]
        },
        {
          "data": {
            "image/png": "[encoded data removed]",
            "text/plain": [
              "<Figure size 1200x600 with 1 Axes>"
            ]
          },
          "metadata": {},
          "output_type": "display_data"
        }
      ],
      "source": [
        "print(\"Plotting for all features\")\n",
        "plot_class_predictions(y_test, y_pred)"
      ]
    },
    {
      "cell_type": "markdown",
      "metadata": {
        "id": "fUw7QKYhEbgu"
      },
      "source": [
        "### **Case 2 : Use Top 10 features**"
      ]
    },
    {
      "cell_type": "code",
      "execution_count": null,
      "metadata": {
        "id": "wMP81oj8Ebgx"
      },
      "outputs": [],
      "source": [
        "# Case 2 : Use all features\n",
        "\n",
        "X = df_mon[df_mon.columns[:10]] # Use Top 10 features\n",
        "y = df_mon['label']\n",
        "\n",
        "X_train, X_test, y_train, y_test = train_test_split(X, y, test_size=0.2, random_state=2)\n",
        "clf, y_pred = train_model(X_train, y_train, X_test, y_test)"
      ]
    },
    {
      "cell_type": "code",
      "execution_count": null,
      "metadata": {
        "id": "vMp-ROQsEbgy",
        "outputId": "44e43cb8-3b0c-4565-cfb9-9986b88b4c77"
      },
      "outputs": [
        {
          "name": "stdout",
          "output_type": "stream",
          "text": [
            "Accuracy on test dataset: 0.7086842105263158\n"
          ]
        },
        {
          "data": {
            "text/plain": [
              "array([[28,  0,  0, ...,  0,  0,  0],\n",
              "       [ 0, 29,  0, ...,  0,  0,  0],\n",
              "       [ 0,  0, 36, ...,  0,  0,  0],\n",
              "       ...,\n",
              "       [ 0,  0,  0, ..., 29,  0,  2],\n",
              "       [ 0,  0,  0, ...,  0, 40,  0],\n",
              "       [ 0,  0,  0, ...,  1,  0, 29]], dtype=int64)"
            ]
          },
          "execution_count": 14,
          "metadata": {},
          "output_type": "execute_result"
        }
      ],
      "source": [
        "# Compute accuracy & print confusion matrix\n",
        "\n",
        "from sklearn.metrics import accuracy_score\n",
        "from sklearn.metrics import confusion_matrix\n",
        "\n",
        "accuracy = accuracy_score(y_test, y_pred)\n",
        "conf_matrix = confusion_matrix(y_test, y_pred)\n",
        "\n",
        "print(\"Accuracy on test dataset: {}\".format(accuracy_score(y_test, y_pred)))\n",
        "confusion_matrix(y_test, y_pred)"
      ]
    },
    {
      "cell_type": "code",
      "execution_count": null,
      "metadata": {
        "id": "aFWHGzHBEbgz",
        "outputId": "60c2fdcf-5b67-4124-8aa8-446b2922b350"
      },
      "outputs": [
        {
          "name": "stdout",
          "output_type": "stream",
          "text": [
            "Plotting for all features\n"
          ]
        },
        {
          "data": {
            "image/png": "[encoded data removed]",
            "text/plain": [
              "<Figure size 1200x600 with 1 Axes>"
            ]
          },
          "metadata": {},
          "output_type": "display_data"
        }
      ],
      "source": [
        "print(\"Plotting for all features\")\n",
        "plot_class_predictions(y_test, y_pred)"
      ]
    },
    {
      "cell_type": "markdown",
      "metadata": {
        "id": "VJL0FoShEhAG"
      },
      "source": [
        "### **Case 3 : Use Top 5 features**"
      ]
    },
    {
      "cell_type": "code",
      "execution_count": null,
      "metadata": {
        "id": "qZdzFe-LEhAI"
      },
      "outputs": [],
      "source": [
        "# Case 3 : Use Top 5 features\n",
        "\n",
        "X = df_mon[df_mon.columns[:5]] # Use Top 5 features\n",
        "y = df_mon['label']\n",
        "\n",
        "X_train, X_test, y_train, y_test = train_test_split(X, y, test_size=0.2, random_state=2)\n",
        "clf, y_pred = train_model(X_train, y_train, X_test, y_test)"
      ]
    },
    {
      "cell_type": "code",
      "execution_count": null,
      "metadata": {
        "id": "OXcN-8YBEhAJ",
        "outputId": "17b75468-56e1-49bc-b4bb-3225d616d0fc"
      },
      "outputs": [
        {
          "name": "stdout",
          "output_type": "stream",
          "text": [
            "Accuracy on test dataset: 0.48526315789473684\n"
          ]
        },
        {
          "data": {
            "text/plain": [
              "array([[13,  0,  0, ...,  0,  0,  0],\n",
              "       [ 2,  5,  0, ...,  0,  0,  0],\n",
              "       [ 1,  0, 30, ...,  0,  0,  0],\n",
              "       ...,\n",
              "       [ 0,  0,  1, ..., 13,  0,  8],\n",
              "       [ 1,  0,  0, ...,  0, 31,  0],\n",
              "       [ 0,  0,  0, ...,  1,  0, 11]], dtype=int64)"
            ]
          },
          "execution_count": 17,
          "metadata": {},
          "output_type": "execute_result"
        }
      ],
      "source": [
        "# Compute accuracy & print confusion matrix\n",
        "\n",
        "from sklearn.metrics import accuracy_score\n",
        "from sklearn.metrics import confusion_matrix\n",
        "\n",
        "accuracy = accuracy_score(y_test, y_pred)\n",
        "conf_matrix = confusion_matrix(y_test, y_pred)\n",
        "\n",
        "print(\"Accuracy on test dataset: {}\".format(accuracy_score(y_test, y_pred)))\n",
        "confusion_matrix(y_test, y_pred)"
      ]
    },
    {
      "cell_type": "code",
      "execution_count": null,
      "metadata": {
        "id": "gOnyY3ceEhAK",
        "outputId": "32f15d0a-6377-488e-acc3-ab8c09c84345"
      },
      "outputs": [
        {
          "name": "stdout",
          "output_type": "stream",
          "text": [
            "Plotting for all features\n"
          ]
        },
        {
          "data": {
            "image/png": "[encoded data removed]",
            "text/plain": [
              "<Figure size 1200x600 with 1 Axes>"
            ]
          },
          "metadata": {},
          "output_type": "display_data"
        }
      ],
      "source": [
        "print(\"Plotting for all features\")\n",
        "plot_class_predictions(y_test, y_pred)"
      ]
    },
    {
      "cell_type": "markdown",
      "metadata": {
        "id": "c9Mp7S8Q40QP"
      },
      "source": [
        "## 5. Result : Random Forest"
      ]
    },
    {
      "cell_type": "markdown",
      "metadata": {
        "id": "KxFmlHM046es"
      },
      "source": [
        "Best Accuracy Score\n",
        "- Case 1 (Use all features) : 0.8118421052631579\n",
        "- Case 2 (Use Top 10 features) : 0.7086842105263158\n",
        "- Case 3 (Use Top 5 features) : 0.48526315789473684"
      ]
    }
  ],
  "metadata": {
    "colab": {
      "collapsed_sections": [
        "LEG4RjOSA1Ea",
        "b99egp8tHF4J",
        "MgY-FQ57KUya",
        "FGoGsx5ZL077",
        "Eh05WeOOs5Z3",
        "fUw7QKYhEbgu",
        "VJL0FoShEhAG"
      ],
      "provenance": []
    },
    "kernelspec": {
      "display_name": "Python 3 (ipykernel)",
      "language": "python",
      "name": "python3"
    },
    "language_info": {
      "codemirror_mode": {
        "name": "ipython",
        "version": 3
      },
      "file_extension": ".py",
      "mimetype": "text/x-python",
      "name": "python",
      "nbconvert_exporter": "python",
      "pygments_lexer": "ipython3",
      "version": "3.9.13"
    }
  },
  "nbformat": 4,
  "nbformat_minor": 0
}